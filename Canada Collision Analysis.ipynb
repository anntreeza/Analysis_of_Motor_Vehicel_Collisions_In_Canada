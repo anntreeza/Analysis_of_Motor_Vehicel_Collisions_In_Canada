{
 "cells": [
  {
   "cell_type": "markdown",
   "metadata": {
    "id": "Hn4Q9F56a_5V"
   },
   "source": [
    "#Code for merging datasets for all years - 2000 to 2019\n",
    "import os\n",
    "import pandas as pd\n",
    "\n",
    "folder_path = r\"C:\\AeshaDAB\\Sem3\\Capstone1\\Dataset\"\n",
    "file_paths = [os.path.join(folder_path, file) for file in os.listdir(folder_path) if file.endswith(\".xlsx\")]\n",
    "\n",
    "dataframes = []\n",
    "\n",
    "for file_path in file_paths:\n",
    "    # Check if the file exists\n",
    "    if not os.path.exists(file_path):\n",
    "        print(f\"File '{file_path}' not found.\")\n",
    "    else:\n",
    "        print(f\"Reading data from '{file_path}'\")\n",
    "        year = os.path.splitext(os.path.basename(file_path))[0]\n",
    "        df = pd.read_excel(file_path)\n",
    "        df['C_YEAR'] = year\n",
    "        dataframes.append(df)\n",
    "\n",
    "if dataframes:\n",
    "    # Merge all DataFrames into a single DataFrame\n",
    "    merged_data = pd.concat(dataframes, ignore_index=True)\n",
    "\n",
    "    # Save the merged DataFrame to a CSV file\n",
    "    merged_data.to_csv(\"merged_years_mvc.csv\", index=False)\n",
    "\n",
    "    # Read the merged DataFrame from the CSV file\n",
    "    merged_data = pd.read_csv(\"merged_years_mvc.csv\")\n",
    "\n",
    "    # Get unique years from the 'C_YEAR' column\n",
    "    unique_years = merged_data['C_YEAR'].unique()\n",
    "    num_unique_years = len(unique_years)\n",
    "\n",
    "    print(f\"Number of unique years: {num_unique_years}\")\n",
    "else:\n",
    "    print(\"No dataframes were created. Please check your files and paths.\")"
   ]
  },
  {
   "cell_type": "markdown",
   "metadata": {
    "id": "PHvbkYvv65Da"
   },
   "source": [
    "##Loading the Dataset & Required Libraries"
   ]
  },
  {
   "cell_type": "code",
   "execution_count": null,
   "metadata": {
    "colab": {
     "base_uri": "https://localhost:8080/"
    },
    "id": "b6UaSrjRCWao",
    "outputId": "3efd8da9-e30b-4f23-9448-4fac8e7d1aee"
   },
   "outputs": [
    {
     "name": "stdout",
     "output_type": "stream",
     "text": [
      "Mounted at /content/drive\n"
     ]
    }
   ],
   "source": [
    "from google.colab import drive\n",
    "drive.mount('/content/drive')\n",
    "\n"
   ]
  },
  {
   "cell_type": "code",
   "execution_count": null,
   "metadata": {
    "id": "ALc9Xx7GdvC_"
   },
   "outputs": [],
   "source": [
    "import pandas as pd\n",
    "import numpy as np\n",
    "import matplotlib.pyplot as plt\n",
    "import seaborn as sns"
   ]
  },
  {
   "cell_type": "code",
   "execution_count": null,
   "metadata": {
    "colab": {
     "base_uri": "https://localhost:8080/",
     "height": 805
    },
    "id": "cejO-_XcCh6o",
    "outputId": "34f946d0-b84a-4538-a3e6-9173c3f6c53b"
   },
   "outputs": [
    {
     "name": "stderr",
     "output_type": "stream",
     "text": [
      "<ipython-input-3-6a287497560f>:2: DtypeWarning: Columns (1,2,5,12) have mixed types. Specify dtype option on import or set low_memory=False.\n",
      "  df = pd.read_csv(file_path)\n"
     ]
    },
    {
     "data": {
      "text/html": [
       "\n",
       "  <div id=\"df-3965ee8f-cd4c-43cc-8cb9-1f53f1ab1c33\" class=\"colab-df-container\">\n",
       "    <div>\n",
       "<style scoped>\n",
       "    .dataframe tbody tr th:only-of-type {\n",
       "        vertical-align: middle;\n",
       "    }\n",
       "\n",
       "    .dataframe tbody tr th {\n",
       "        vertical-align: top;\n",
       "    }\n",
       "\n",
       "    .dataframe thead th {\n",
       "        text-align: right;\n",
       "    }\n",
       "</style>\n",
       "<table border=\"1\" class=\"dataframe\">\n",
       "  <thead>\n",
       "    <tr style=\"text-align: right;\">\n",
       "      <th></th>\n",
       "      <th>0</th>\n",
       "      <th>1</th>\n",
       "    </tr>\n",
       "  </thead>\n",
       "  <tbody>\n",
       "    <tr>\n",
       "      <th>C_YEAR</th>\n",
       "      <td>y_2000_en</td>\n",
       "      <td>y_2000_en</td>\n",
       "    </tr>\n",
       "    <tr>\n",
       "      <th>C_MNTH</th>\n",
       "      <td>1</td>\n",
       "      <td>1</td>\n",
       "    </tr>\n",
       "    <tr>\n",
       "      <th>C_WDAY</th>\n",
       "      <td>1</td>\n",
       "      <td>1</td>\n",
       "    </tr>\n",
       "    <tr>\n",
       "      <th>C_HOUR</th>\n",
       "      <td>16</td>\n",
       "      <td>16</td>\n",
       "    </tr>\n",
       "    <tr>\n",
       "      <th>C_SEV</th>\n",
       "      <td>2</td>\n",
       "      <td>2</td>\n",
       "    </tr>\n",
       "    <tr>\n",
       "      <th>C_VEHS</th>\n",
       "      <td>2</td>\n",
       "      <td>2</td>\n",
       "    </tr>\n",
       "    <tr>\n",
       "      <th>C_CONF</th>\n",
       "      <td>21</td>\n",
       "      <td>21</td>\n",
       "    </tr>\n",
       "    <tr>\n",
       "      <th>C_RCFG</th>\n",
       "      <td>UU</td>\n",
       "      <td>UU</td>\n",
       "    </tr>\n",
       "    <tr>\n",
       "      <th>C_WTHR</th>\n",
       "      <td>1</td>\n",
       "      <td>1</td>\n",
       "    </tr>\n",
       "    <tr>\n",
       "      <th>C_RSUR</th>\n",
       "      <td>1</td>\n",
       "      <td>1</td>\n",
       "    </tr>\n",
       "    <tr>\n",
       "      <th>C_RALN</th>\n",
       "      <td>1</td>\n",
       "      <td>1</td>\n",
       "    </tr>\n",
       "    <tr>\n",
       "      <th>C_TRAF</th>\n",
       "      <td>18</td>\n",
       "      <td>18</td>\n",
       "    </tr>\n",
       "    <tr>\n",
       "      <th>V_ID</th>\n",
       "      <td>1</td>\n",
       "      <td>2</td>\n",
       "    </tr>\n",
       "    <tr>\n",
       "      <th>V_TYPE</th>\n",
       "      <td>1</td>\n",
       "      <td>1</td>\n",
       "    </tr>\n",
       "    <tr>\n",
       "      <th>V_YEAR</th>\n",
       "      <td>UUUU</td>\n",
       "      <td>UUUU</td>\n",
       "    </tr>\n",
       "    <tr>\n",
       "      <th>P_ID</th>\n",
       "      <td>1</td>\n",
       "      <td>1</td>\n",
       "    </tr>\n",
       "    <tr>\n",
       "      <th>P_SEX</th>\n",
       "      <td>M</td>\n",
       "      <td>F</td>\n",
       "    </tr>\n",
       "    <tr>\n",
       "      <th>P_AGE</th>\n",
       "      <td>33</td>\n",
       "      <td>32</td>\n",
       "    </tr>\n",
       "    <tr>\n",
       "      <th>P_PSN</th>\n",
       "      <td>11</td>\n",
       "      <td>11</td>\n",
       "    </tr>\n",
       "    <tr>\n",
       "      <th>P_ISEV</th>\n",
       "      <td>2</td>\n",
       "      <td>1</td>\n",
       "    </tr>\n",
       "    <tr>\n",
       "      <th>P_SAFE</th>\n",
       "      <td>2</td>\n",
       "      <td>NN</td>\n",
       "    </tr>\n",
       "    <tr>\n",
       "      <th>P_USER</th>\n",
       "      <td>1</td>\n",
       "      <td>1</td>\n",
       "    </tr>\n",
       "    <tr>\n",
       "      <th>C_CASE</th>\n",
       "      <td>151401</td>\n",
       "      <td>151401</td>\n",
       "    </tr>\n",
       "  </tbody>\n",
       "</table>\n",
       "</div>\n",
       "    <div class=\"colab-df-buttons\">\n",
       "\n",
       "  <div class=\"colab-df-container\">\n",
       "    <button class=\"colab-df-convert\" onclick=\"convertToInteractive('df-3965ee8f-cd4c-43cc-8cb9-1f53f1ab1c33')\"\n",
       "            title=\"Convert this dataframe to an interactive table.\"\n",
       "            style=\"display:none;\">\n",
       "\n",
       "  <svg xmlns=\"http://www.w3.org/2000/svg\" height=\"24px\" viewBox=\"0 -960 960 960\">\n",
       "    <path d=\"M120-120v-720h720v720H120Zm60-500h600v-160H180v160Zm220 220h160v-160H400v160Zm0 220h160v-160H400v160ZM180-400h160v-160H180v160Zm440 0h160v-160H620v160ZM180-180h160v-160H180v160Zm440 0h160v-160H620v160Z\"/>\n",
       "  </svg>\n",
       "    </button>\n",
       "\n",
       "  <style>\n",
       "    .colab-df-container {\n",
       "      display:flex;\n",
       "      gap: 12px;\n",
       "    }\n",
       "\n",
       "    .colab-df-convert {\n",
       "      background-color: #E8F0FE;\n",
       "      border: none;\n",
       "      border-radius: 50%;\n",
       "      cursor: pointer;\n",
       "      display: none;\n",
       "      fill: #1967D2;\n",
       "      height: 32px;\n",
       "      padding: 0 0 0 0;\n",
       "      width: 32px;\n",
       "    }\n",
       "\n",
       "    .colab-df-convert:hover {\n",
       "      background-color: #E2EBFA;\n",
       "      box-shadow: 0px 1px 2px rgba(60, 64, 67, 0.3), 0px 1px 3px 1px rgba(60, 64, 67, 0.15);\n",
       "      fill: #174EA6;\n",
       "    }\n",
       "\n",
       "    .colab-df-buttons div {\n",
       "      margin-bottom: 4px;\n",
       "    }\n",
       "\n",
       "    [theme=dark] .colab-df-convert {\n",
       "      background-color: #3B4455;\n",
       "      fill: #D2E3FC;\n",
       "    }\n",
       "\n",
       "    [theme=dark] .colab-df-convert:hover {\n",
       "      background-color: #434B5C;\n",
       "      box-shadow: 0px 1px 3px 1px rgba(0, 0, 0, 0.15);\n",
       "      filter: drop-shadow(0px 1px 2px rgba(0, 0, 0, 0.3));\n",
       "      fill: #FFFFFF;\n",
       "    }\n",
       "  </style>\n",
       "\n",
       "    <script>\n",
       "      const buttonEl =\n",
       "        document.querySelector('#df-3965ee8f-cd4c-43cc-8cb9-1f53f1ab1c33 button.colab-df-convert');\n",
       "      buttonEl.style.display =\n",
       "        google.colab.kernel.accessAllowed ? 'block' : 'none';\n",
       "\n",
       "      async function convertToInteractive(key) {\n",
       "        const element = document.querySelector('#df-3965ee8f-cd4c-43cc-8cb9-1f53f1ab1c33');\n",
       "        const dataTable =\n",
       "          await google.colab.kernel.invokeFunction('convertToInteractive',\n",
       "                                                    [key], {});\n",
       "        if (!dataTable) return;\n",
       "\n",
       "        const docLinkHtml = 'Like what you see? Visit the ' +\n",
       "          '<a target=\"_blank\" href=https://colab.research.google.com/notebooks/data_table.ipynb>data table notebook</a>'\n",
       "          + ' to learn more about interactive tables.';\n",
       "        element.innerHTML = '';\n",
       "        dataTable['output_type'] = 'display_data';\n",
       "        await google.colab.output.renderOutput(dataTable, element);\n",
       "        const docLink = document.createElement('div');\n",
       "        docLink.innerHTML = docLinkHtml;\n",
       "        element.appendChild(docLink);\n",
       "      }\n",
       "    </script>\n",
       "  </div>\n",
       "\n",
       "\n",
       "<div id=\"df-c39a8ffa-3d57-4551-801f-835b1ce7df23\">\n",
       "  <button class=\"colab-df-quickchart\" onclick=\"quickchart('df-c39a8ffa-3d57-4551-801f-835b1ce7df23')\"\n",
       "            title=\"Suggest charts\"\n",
       "            style=\"display:none;\">\n",
       "\n",
       "<svg xmlns=\"http://www.w3.org/2000/svg\" height=\"24px\"viewBox=\"0 0 24 24\"\n",
       "     width=\"24px\">\n",
       "    <g>\n",
       "        <path d=\"M19 3H5c-1.1 0-2 .9-2 2v14c0 1.1.9 2 2 2h14c1.1 0 2-.9 2-2V5c0-1.1-.9-2-2-2zM9 17H7v-7h2v7zm4 0h-2V7h2v10zm4 0h-2v-4h2v4z\"/>\n",
       "    </g>\n",
       "</svg>\n",
       "  </button>\n",
       "\n",
       "<style>\n",
       "  .colab-df-quickchart {\n",
       "      --bg-color: #E8F0FE;\n",
       "      --fill-color: #1967D2;\n",
       "      --hover-bg-color: #E2EBFA;\n",
       "      --hover-fill-color: #174EA6;\n",
       "      --disabled-fill-color: #AAA;\n",
       "      --disabled-bg-color: #DDD;\n",
       "  }\n",
       "\n",
       "  [theme=dark] .colab-df-quickchart {\n",
       "      --bg-color: #3B4455;\n",
       "      --fill-color: #D2E3FC;\n",
       "      --hover-bg-color: #434B5C;\n",
       "      --hover-fill-color: #FFFFFF;\n",
       "      --disabled-bg-color: #3B4455;\n",
       "      --disabled-fill-color: #666;\n",
       "  }\n",
       "\n",
       "  .colab-df-quickchart {\n",
       "    background-color: var(--bg-color);\n",
       "    border: none;\n",
       "    border-radius: 50%;\n",
       "    cursor: pointer;\n",
       "    display: none;\n",
       "    fill: var(--fill-color);\n",
       "    height: 32px;\n",
       "    padding: 0;\n",
       "    width: 32px;\n",
       "  }\n",
       "\n",
       "  .colab-df-quickchart:hover {\n",
       "    background-color: var(--hover-bg-color);\n",
       "    box-shadow: 0 1px 2px rgba(60, 64, 67, 0.3), 0 1px 3px 1px rgba(60, 64, 67, 0.15);\n",
       "    fill: var(--button-hover-fill-color);\n",
       "  }\n",
       "\n",
       "  .colab-df-quickchart-complete:disabled,\n",
       "  .colab-df-quickchart-complete:disabled:hover {\n",
       "    background-color: var(--disabled-bg-color);\n",
       "    fill: var(--disabled-fill-color);\n",
       "    box-shadow: none;\n",
       "  }\n",
       "\n",
       "  .colab-df-spinner {\n",
       "    border: 2px solid var(--fill-color);\n",
       "    border-color: transparent;\n",
       "    border-bottom-color: var(--fill-color);\n",
       "    animation:\n",
       "      spin 1s steps(1) infinite;\n",
       "  }\n",
       "\n",
       "  @keyframes spin {\n",
       "    0% {\n",
       "      border-color: transparent;\n",
       "      border-bottom-color: var(--fill-color);\n",
       "      border-left-color: var(--fill-color);\n",
       "    }\n",
       "    20% {\n",
       "      border-color: transparent;\n",
       "      border-left-color: var(--fill-color);\n",
       "      border-top-color: var(--fill-color);\n",
       "    }\n",
       "    30% {\n",
       "      border-color: transparent;\n",
       "      border-left-color: var(--fill-color);\n",
       "      border-top-color: var(--fill-color);\n",
       "      border-right-color: var(--fill-color);\n",
       "    }\n",
       "    40% {\n",
       "      border-color: transparent;\n",
       "      border-right-color: var(--fill-color);\n",
       "      border-top-color: var(--fill-color);\n",
       "    }\n",
       "    60% {\n",
       "      border-color: transparent;\n",
       "      border-right-color: var(--fill-color);\n",
       "    }\n",
       "    80% {\n",
       "      border-color: transparent;\n",
       "      border-right-color: var(--fill-color);\n",
       "      border-bottom-color: var(--fill-color);\n",
       "    }\n",
       "    90% {\n",
       "      border-color: transparent;\n",
       "      border-bottom-color: var(--fill-color);\n",
       "    }\n",
       "  }\n",
       "</style>\n",
       "\n",
       "  <script>\n",
       "    async function quickchart(key) {\n",
       "      const quickchartButtonEl =\n",
       "        document.querySelector('#' + key + ' button');\n",
       "      quickchartButtonEl.disabled = true;  // To prevent multiple clicks.\n",
       "      quickchartButtonEl.classList.add('colab-df-spinner');\n",
       "      try {\n",
       "        const charts = await google.colab.kernel.invokeFunction(\n",
       "            'suggestCharts', [key], {});\n",
       "      } catch (error) {\n",
       "        console.error('Error during call to suggestCharts:', error);\n",
       "      }\n",
       "      quickchartButtonEl.classList.remove('colab-df-spinner');\n",
       "      quickchartButtonEl.classList.add('colab-df-quickchart-complete');\n",
       "    }\n",
       "    (() => {\n",
       "      let quickchartButtonEl =\n",
       "        document.querySelector('#df-c39a8ffa-3d57-4551-801f-835b1ce7df23 button');\n",
       "      quickchartButtonEl.style.display =\n",
       "        google.colab.kernel.accessAllowed ? 'block' : 'none';\n",
       "    })();\n",
       "  </script>\n",
       "</div>\n",
       "    </div>\n",
       "  </div>\n"
      ],
      "text/plain": [
       "                0          1\n",
       "C_YEAR  y_2000_en  y_2000_en\n",
       "C_MNTH          1          1\n",
       "C_WDAY          1          1\n",
       "C_HOUR         16         16\n",
       "C_SEV           2          2\n",
       "C_VEHS          2          2\n",
       "C_CONF         21         21\n",
       "C_RCFG         UU         UU\n",
       "C_WTHR          1          1\n",
       "C_RSUR          1          1\n",
       "C_RALN          1          1\n",
       "C_TRAF         18         18\n",
       "V_ID            1          2\n",
       "V_TYPE          1          1\n",
       "V_YEAR       UUUU       UUUU\n",
       "P_ID            1          1\n",
       "P_SEX           M          F\n",
       "P_AGE          33         32\n",
       "P_PSN          11         11\n",
       "P_ISEV          2          1\n",
       "P_SAFE          2         NN\n",
       "P_USER          1          1\n",
       "C_CASE     151401     151401"
      ]
     },
     "execution_count": 3,
     "metadata": {},
     "output_type": "execute_result"
    }
   ],
   "source": [
    "file_path = '/content/drive/MyDrive/merged_years_mvc.csv'\n",
    "df = pd.read_csv(file_path)\n",
    "df.head(2).T\n",
    "#df"
   ]
  },
  {
   "cell_type": "markdown",
   "metadata": {
    "id": "ylzrjaYUAqtn"
   },
   "source": [
    "## Data Inspection"
   ]
  },
  {
   "cell_type": "code",
   "execution_count": null,
   "metadata": {
    "id": "uRQB8ojxtX4H"
   },
   "outputs": [],
   "source": [
    "#datacopy = df"
   ]
  },
  {
   "cell_type": "code",
   "execution_count": null,
   "metadata": {
    "id": "AEuRwAMiBoQG"
   },
   "outputs": [],
   "source": [
    "data = df"
   ]
  },
  {
   "cell_type": "code",
   "execution_count": null,
   "metadata": {
    "colab": {
     "base_uri": "https://localhost:8080/"
    },
    "id": "c6GBsYIhBuc7",
    "outputId": "becc6c5e-4099-44cc-e6f9-a07c0286827a"
   },
   "outputs": [
    {
     "name": "stdout",
     "output_type": "stream",
     "text": [
      "<class 'pandas.core.frame.DataFrame'>\n",
      "RangeIndex: 6913204 entries, 0 to 6913203\n",
      "Data columns (total 23 columns):\n",
      " #   Column  Dtype \n",
      "---  ------  ----- \n",
      " 0   C_YEAR  object\n",
      " 1   C_MNTH  object\n",
      " 2   C_WDAY  object\n",
      " 3   C_HOUR  object\n",
      " 4   C_SEV   int64 \n",
      " 5   C_VEHS  object\n",
      " 6   C_CONF  object\n",
      " 7   C_RCFG  object\n",
      " 8   C_WTHR  object\n",
      " 9   C_RSUR  object\n",
      " 10  C_RALN  object\n",
      " 11  C_TRAF  object\n",
      " 12  V_ID    object\n",
      " 13  V_TYPE  object\n",
      " 14  V_YEAR  object\n",
      " 15  P_ID    object\n",
      " 16  P_SEX   object\n",
      " 17  P_AGE   object\n",
      " 18  P_PSN   object\n",
      " 19  P_ISEV  object\n",
      " 20  P_SAFE  object\n",
      " 21  P_USER  object\n",
      " 22  C_CASE  int64 \n",
      "dtypes: int64(2), object(21)\n",
      "memory usage: 1.2+ GB\n"
     ]
    }
   ],
   "source": [
    "#Inspecting the datatype of each feature\n",
    "data.info()"
   ]
  },
  {
   "cell_type": "code",
   "execution_count": null,
   "metadata": {
    "colab": {
     "base_uri": "https://localhost:8080/"
    },
    "id": "GwIIAT_RBNjU",
    "outputId": "0f385817-43ec-4fa9-9ed9-ff9d4c390d09"
   },
   "outputs": [
    {
     "data": {
      "text/plain": [
       "(6913204, 23)"
      ]
     },
     "execution_count": 27,
     "metadata": {},
     "output_type": "execute_result"
    }
   ],
   "source": [
    "#Viewing data dimensions\n",
    "data.shape"
   ]
  },
  {
   "cell_type": "markdown",
   "metadata": {
    "id": "UIWneS2uDuv5"
   },
   "source": [
    "There are 6.9 million records, and 23 features."
   ]
  },
  {
   "cell_type": "markdown",
   "metadata": {
    "id": "jWWVO2CACNoy"
   },
   "source": [
    "### Rename  The Columns"
   ]
  },
  {
   "cell_type": "code",
   "execution_count": null,
   "metadata": {
    "id": "skXKHS4RtY6H"
   },
   "outputs": [],
   "source": [
    "#Renaming the columns for better understanding\n",
    "data = data.rename(columns={\n",
    "    'C_YEAR': 'Year',\n",
    "    'C_MNTH': 'Month',\n",
    "    'C_WDAY': 'Weekday',\n",
    "    'C_HOUR': 'Hour',\n",
    "    'C_SEV': 'Severity',\n",
    "    'C_VEHS': 'Num_vehicles',\n",
    "    'C_CONF': 'Collision_configuration',\n",
    "    'C_RCFG': 'Road_configuration',\n",
    "    'C_WTHR': 'Weather_condition',\n",
    "    'C_RSUR': 'Road_surface',\n",
    "    'C_RALN': 'Road_alignment',\n",
    "    'C_TRAF': 'Traffic_control',\n",
    "    'V_ID': 'vehicle_id',\n",
    "    'V_TYPE': 'Vehicle_type',\n",
    "    'V_YEAR': 'Vehicle_year',\n",
    "    'P_ID': 'Person_id',\n",
    "    'P_SEX': 'Person_sex',\n",
    "    'P_AGE': 'Person_age',\n",
    "    'P_PSN': 'Person_position',\n",
    "    'P_ISEV': 'Person_injury_severity',\n",
    "    'P_SAFE': 'Safety_device_used',\n",
    "    'P_USER': 'Road_user_type',\n",
    "    'C_CASE': 'Collision_case',\n",
    "    })"
   ]
  },
  {
   "cell_type": "markdown",
   "metadata": {
    "id": "Rl3pyg57CdDI"
   },
   "source": [
    "## Statistical Summary"
   ]
  },
  {
   "cell_type": "code",
   "execution_count": null,
   "metadata": {
    "colab": {
     "base_uri": "https://localhost:8080/",
     "height": 770
    },
    "id": "x5HLXPw778SC",
    "outputId": "1655dc2b-c955-44bc-d5fc-5cc7c7b817cd"
   },
   "outputs": [
    {
     "data": {
      "text/html": [
       "\n",
       "  <div id=\"df-48285b56-ca6d-4117-b9d7-344d539daff0\" class=\"colab-df-container\">\n",
       "    <div>\n",
       "<style scoped>\n",
       "    .dataframe tbody tr th:only-of-type {\n",
       "        vertical-align: middle;\n",
       "    }\n",
       "\n",
       "    .dataframe tbody tr th {\n",
       "        vertical-align: top;\n",
       "    }\n",
       "\n",
       "    .dataframe thead th {\n",
       "        text-align: right;\n",
       "    }\n",
       "</style>\n",
       "<table border=\"1\" class=\"dataframe\">\n",
       "  <thead>\n",
       "    <tr style=\"text-align: right;\">\n",
       "      <th></th>\n",
       "      <th>count</th>\n",
       "      <th>unique</th>\n",
       "      <th>top</th>\n",
       "      <th>freq</th>\n",
       "      <th>mean</th>\n",
       "      <th>std</th>\n",
       "      <th>min</th>\n",
       "      <th>25%</th>\n",
       "      <th>50%</th>\n",
       "      <th>75%</th>\n",
       "      <th>max</th>\n",
       "    </tr>\n",
       "  </thead>\n",
       "  <tbody>\n",
       "    <tr>\n",
       "      <th>Year</th>\n",
       "      <td>6913204</td>\n",
       "      <td>20</td>\n",
       "      <td>y_2000_en</td>\n",
       "      <td>422075</td>\n",
       "      <td>NaN</td>\n",
       "      <td>NaN</td>\n",
       "      <td>NaN</td>\n",
       "      <td>NaN</td>\n",
       "      <td>NaN</td>\n",
       "      <td>NaN</td>\n",
       "      <td>NaN</td>\n",
       "    </tr>\n",
       "    <tr>\n",
       "      <th>Month</th>\n",
       "      <td>6913204.0</td>\n",
       "      <td>17.0</td>\n",
       "      <td>8.0</td>\n",
       "      <td>640546.0</td>\n",
       "      <td>NaN</td>\n",
       "      <td>NaN</td>\n",
       "      <td>NaN</td>\n",
       "      <td>NaN</td>\n",
       "      <td>NaN</td>\n",
       "      <td>NaN</td>\n",
       "      <td>NaN</td>\n",
       "    </tr>\n",
       "    <tr>\n",
       "      <th>Weekday</th>\n",
       "      <td>6913204.0</td>\n",
       "      <td>15.0</td>\n",
       "      <td>5.0</td>\n",
       "      <td>675079.0</td>\n",
       "      <td>NaN</td>\n",
       "      <td>NaN</td>\n",
       "      <td>NaN</td>\n",
       "      <td>NaN</td>\n",
       "      <td>NaN</td>\n",
       "      <td>NaN</td>\n",
       "      <td>NaN</td>\n",
       "    </tr>\n",
       "    <tr>\n",
       "      <th>Hour</th>\n",
       "      <td>6913204</td>\n",
       "      <td>25</td>\n",
       "      <td>16</td>\n",
       "      <td>616745</td>\n",
       "      <td>NaN</td>\n",
       "      <td>NaN</td>\n",
       "      <td>NaN</td>\n",
       "      <td>NaN</td>\n",
       "      <td>NaN</td>\n",
       "      <td>NaN</td>\n",
       "      <td>NaN</td>\n",
       "    </tr>\n",
       "    <tr>\n",
       "      <th>Severity</th>\n",
       "      <td>6913204.0</td>\n",
       "      <td>NaN</td>\n",
       "      <td>NaN</td>\n",
       "      <td>NaN</td>\n",
       "      <td>1.983509</td>\n",
       "      <td>0.127354</td>\n",
       "      <td>1.0</td>\n",
       "      <td>2.0</td>\n",
       "      <td>2.0</td>\n",
       "      <td>2.0</td>\n",
       "      <td>2.0</td>\n",
       "    </tr>\n",
       "    <tr>\n",
       "      <th>Num_vehicles</th>\n",
       "      <td>6913204.0</td>\n",
       "      <td>86.0</td>\n",
       "      <td>2.0</td>\n",
       "      <td>2588234.0</td>\n",
       "      <td>NaN</td>\n",
       "      <td>NaN</td>\n",
       "      <td>NaN</td>\n",
       "      <td>NaN</td>\n",
       "      <td>NaN</td>\n",
       "      <td>NaN</td>\n",
       "      <td>NaN</td>\n",
       "    </tr>\n",
       "    <tr>\n",
       "      <th>Collision_configuration</th>\n",
       "      <td>6913204</td>\n",
       "      <td>20</td>\n",
       "      <td>21</td>\n",
       "      <td>2081140</td>\n",
       "      <td>NaN</td>\n",
       "      <td>NaN</td>\n",
       "      <td>NaN</td>\n",
       "      <td>NaN</td>\n",
       "      <td>NaN</td>\n",
       "      <td>NaN</td>\n",
       "      <td>NaN</td>\n",
       "    </tr>\n",
       "    <tr>\n",
       "      <th>Road_configuration</th>\n",
       "      <td>6913204</td>\n",
       "      <td>12</td>\n",
       "      <td>2</td>\n",
       "      <td>3219265</td>\n",
       "      <td>NaN</td>\n",
       "      <td>NaN</td>\n",
       "      <td>NaN</td>\n",
       "      <td>NaN</td>\n",
       "      <td>NaN</td>\n",
       "      <td>NaN</td>\n",
       "      <td>NaN</td>\n",
       "    </tr>\n",
       "    <tr>\n",
       "      <th>Weather_condition</th>\n",
       "      <td>6913204</td>\n",
       "      <td>9</td>\n",
       "      <td>1</td>\n",
       "      <td>4831197</td>\n",
       "      <td>NaN</td>\n",
       "      <td>NaN</td>\n",
       "      <td>NaN</td>\n",
       "      <td>NaN</td>\n",
       "      <td>NaN</td>\n",
       "      <td>NaN</td>\n",
       "      <td>NaN</td>\n",
       "    </tr>\n",
       "    <tr>\n",
       "      <th>Road_surface</th>\n",
       "      <td>6913204</td>\n",
       "      <td>11</td>\n",
       "      <td>1</td>\n",
       "      <td>4559289</td>\n",
       "      <td>NaN</td>\n",
       "      <td>NaN</td>\n",
       "      <td>NaN</td>\n",
       "      <td>NaN</td>\n",
       "      <td>NaN</td>\n",
       "      <td>NaN</td>\n",
       "      <td>NaN</td>\n",
       "    </tr>\n",
       "    <tr>\n",
       "      <th>Road_alignment</th>\n",
       "      <td>6913204</td>\n",
       "      <td>8</td>\n",
       "      <td>1</td>\n",
       "      <td>4977754</td>\n",
       "      <td>NaN</td>\n",
       "      <td>NaN</td>\n",
       "      <td>NaN</td>\n",
       "      <td>NaN</td>\n",
       "      <td>NaN</td>\n",
       "      <td>NaN</td>\n",
       "      <td>NaN</td>\n",
       "    </tr>\n",
       "    <tr>\n",
       "      <th>Traffic_control</th>\n",
       "      <td>6913204</td>\n",
       "      <td>19</td>\n",
       "      <td>18</td>\n",
       "      <td>3571219</td>\n",
       "      <td>NaN</td>\n",
       "      <td>NaN</td>\n",
       "      <td>NaN</td>\n",
       "      <td>NaN</td>\n",
       "      <td>NaN</td>\n",
       "      <td>NaN</td>\n",
       "      <td>NaN</td>\n",
       "    </tr>\n",
       "    <tr>\n",
       "      <th>vehicle_id</th>\n",
       "      <td>6913204</td>\n",
       "      <td>164</td>\n",
       "      <td>1</td>\n",
       "      <td>2340067</td>\n",
       "      <td>NaN</td>\n",
       "      <td>NaN</td>\n",
       "      <td>NaN</td>\n",
       "      <td>NaN</td>\n",
       "      <td>NaN</td>\n",
       "      <td>NaN</td>\n",
       "      <td>NaN</td>\n",
       "    </tr>\n",
       "    <tr>\n",
       "      <th>Vehicle_type</th>\n",
       "      <td>6913204</td>\n",
       "      <td>20</td>\n",
       "      <td>1</td>\n",
       "      <td>5739898</td>\n",
       "      <td>NaN</td>\n",
       "      <td>NaN</td>\n",
       "      <td>NaN</td>\n",
       "      <td>NaN</td>\n",
       "      <td>NaN</td>\n",
       "      <td>NaN</td>\n",
       "      <td>NaN</td>\n",
       "    </tr>\n",
       "    <tr>\n",
       "      <th>Vehicle_year</th>\n",
       "      <td>6913204</td>\n",
       "      <td>116</td>\n",
       "      <td>UUUU</td>\n",
       "      <td>362375</td>\n",
       "      <td>NaN</td>\n",
       "      <td>NaN</td>\n",
       "      <td>NaN</td>\n",
       "      <td>NaN</td>\n",
       "      <td>NaN</td>\n",
       "      <td>NaN</td>\n",
       "      <td>NaN</td>\n",
       "    </tr>\n",
       "    <tr>\n",
       "      <th>Person_id</th>\n",
       "      <td>6913204</td>\n",
       "      <td>96</td>\n",
       "      <td>1</td>\n",
       "      <td>4959635</td>\n",
       "      <td>NaN</td>\n",
       "      <td>NaN</td>\n",
       "      <td>NaN</td>\n",
       "      <td>NaN</td>\n",
       "      <td>NaN</td>\n",
       "      <td>NaN</td>\n",
       "      <td>NaN</td>\n",
       "    </tr>\n",
       "    <tr>\n",
       "      <th>Person_sex</th>\n",
       "      <td>6913204</td>\n",
       "      <td>4</td>\n",
       "      <td>M</td>\n",
       "      <td>3697197</td>\n",
       "      <td>NaN</td>\n",
       "      <td>NaN</td>\n",
       "      <td>NaN</td>\n",
       "      <td>NaN</td>\n",
       "      <td>NaN</td>\n",
       "      <td>NaN</td>\n",
       "      <td>NaN</td>\n",
       "    </tr>\n",
       "    <tr>\n",
       "      <th>Person_age</th>\n",
       "      <td>6913204</td>\n",
       "      <td>101</td>\n",
       "      <td>UU</td>\n",
       "      <td>447220</td>\n",
       "      <td>NaN</td>\n",
       "      <td>NaN</td>\n",
       "      <td>NaN</td>\n",
       "      <td>NaN</td>\n",
       "      <td>NaN</td>\n",
       "      <td>NaN</td>\n",
       "      <td>NaN</td>\n",
       "    </tr>\n",
       "    <tr>\n",
       "      <th>Person_position</th>\n",
       "      <td>6913204</td>\n",
       "      <td>16</td>\n",
       "      <td>11</td>\n",
       "      <td>4647907</td>\n",
       "      <td>NaN</td>\n",
       "      <td>NaN</td>\n",
       "      <td>NaN</td>\n",
       "      <td>NaN</td>\n",
       "      <td>NaN</td>\n",
       "      <td>NaN</td>\n",
       "      <td>NaN</td>\n",
       "    </tr>\n",
       "    <tr>\n",
       "      <th>Person_injury_severity</th>\n",
       "      <td>6913204</td>\n",
       "      <td>5</td>\n",
       "      <td>2</td>\n",
       "      <td>3617076</td>\n",
       "      <td>NaN</td>\n",
       "      <td>NaN</td>\n",
       "      <td>NaN</td>\n",
       "      <td>NaN</td>\n",
       "      <td>NaN</td>\n",
       "      <td>NaN</td>\n",
       "      <td>NaN</td>\n",
       "    </tr>\n",
       "    <tr>\n",
       "      <th>Safety_device_used</th>\n",
       "      <td>6913204</td>\n",
       "      <td>10</td>\n",
       "      <td>2</td>\n",
       "      <td>4903542</td>\n",
       "      <td>NaN</td>\n",
       "      <td>NaN</td>\n",
       "      <td>NaN</td>\n",
       "      <td>NaN</td>\n",
       "      <td>NaN</td>\n",
       "      <td>NaN</td>\n",
       "      <td>NaN</td>\n",
       "    </tr>\n",
       "    <tr>\n",
       "      <th>Road_user_type</th>\n",
       "      <td>6913204</td>\n",
       "      <td>6</td>\n",
       "      <td>1</td>\n",
       "      <td>4329482</td>\n",
       "      <td>NaN</td>\n",
       "      <td>NaN</td>\n",
       "      <td>NaN</td>\n",
       "      <td>NaN</td>\n",
       "      <td>NaN</td>\n",
       "      <td>NaN</td>\n",
       "      <td>NaN</td>\n",
       "    </tr>\n",
       "    <tr>\n",
       "      <th>Collision_case</th>\n",
       "      <td>6913204.0</td>\n",
       "      <td>NaN</td>\n",
       "      <td>NaN</td>\n",
       "      <td>NaN</td>\n",
       "      <td>1457657.782408</td>\n",
       "      <td>760672.067969</td>\n",
       "      <td>151316.0</td>\n",
       "      <td>795588.0</td>\n",
       "      <td>1455185.0</td>\n",
       "      <td>2114928.25</td>\n",
       "      <td>2786266.0</td>\n",
       "    </tr>\n",
       "  </tbody>\n",
       "</table>\n",
       "</div>\n",
       "    <div class=\"colab-df-buttons\">\n",
       "\n",
       "  <div class=\"colab-df-container\">\n",
       "    <button class=\"colab-df-convert\" onclick=\"convertToInteractive('df-48285b56-ca6d-4117-b9d7-344d539daff0')\"\n",
       "            title=\"Convert this dataframe to an interactive table.\"\n",
       "            style=\"display:none;\">\n",
       "\n",
       "  <svg xmlns=\"http://www.w3.org/2000/svg\" height=\"24px\" viewBox=\"0 -960 960 960\">\n",
       "    <path d=\"M120-120v-720h720v720H120Zm60-500h600v-160H180v160Zm220 220h160v-160H400v160Zm0 220h160v-160H400v160ZM180-400h160v-160H180v160Zm440 0h160v-160H620v160ZM180-180h160v-160H180v160Zm440 0h160v-160H620v160Z\"/>\n",
       "  </svg>\n",
       "    </button>\n",
       "\n",
       "  <style>\n",
       "    .colab-df-container {\n",
       "      display:flex;\n",
       "      gap: 12px;\n",
       "    }\n",
       "\n",
       "    .colab-df-convert {\n",
       "      background-color: #E8F0FE;\n",
       "      border: none;\n",
       "      border-radius: 50%;\n",
       "      cursor: pointer;\n",
       "      display: none;\n",
       "      fill: #1967D2;\n",
       "      height: 32px;\n",
       "      padding: 0 0 0 0;\n",
       "      width: 32px;\n",
       "    }\n",
       "\n",
       "    .colab-df-convert:hover {\n",
       "      background-color: #E2EBFA;\n",
       "      box-shadow: 0px 1px 2px rgba(60, 64, 67, 0.3), 0px 1px 3px 1px rgba(60, 64, 67, 0.15);\n",
       "      fill: #174EA6;\n",
       "    }\n",
       "\n",
       "    .colab-df-buttons div {\n",
       "      margin-bottom: 4px;\n",
       "    }\n",
       "\n",
       "    [theme=dark] .colab-df-convert {\n",
       "      background-color: #3B4455;\n",
       "      fill: #D2E3FC;\n",
       "    }\n",
       "\n",
       "    [theme=dark] .colab-df-convert:hover {\n",
       "      background-color: #434B5C;\n",
       "      box-shadow: 0px 1px 3px 1px rgba(0, 0, 0, 0.15);\n",
       "      filter: drop-shadow(0px 1px 2px rgba(0, 0, 0, 0.3));\n",
       "      fill: #FFFFFF;\n",
       "    }\n",
       "  </style>\n",
       "\n",
       "    <script>\n",
       "      const buttonEl =\n",
       "        document.querySelector('#df-48285b56-ca6d-4117-b9d7-344d539daff0 button.colab-df-convert');\n",
       "      buttonEl.style.display =\n",
       "        google.colab.kernel.accessAllowed ? 'block' : 'none';\n",
       "\n",
       "      async function convertToInteractive(key) {\n",
       "        const element = document.querySelector('#df-48285b56-ca6d-4117-b9d7-344d539daff0');\n",
       "        const dataTable =\n",
       "          await google.colab.kernel.invokeFunction('convertToInteractive',\n",
       "                                                    [key], {});\n",
       "        if (!dataTable) return;\n",
       "\n",
       "        const docLinkHtml = 'Like what you see? Visit the ' +\n",
       "          '<a target=\"_blank\" href=https://colab.research.google.com/notebooks/data_table.ipynb>data table notebook</a>'\n",
       "          + ' to learn more about interactive tables.';\n",
       "        element.innerHTML = '';\n",
       "        dataTable['output_type'] = 'display_data';\n",
       "        await google.colab.output.renderOutput(dataTable, element);\n",
       "        const docLink = document.createElement('div');\n",
       "        docLink.innerHTML = docLinkHtml;\n",
       "        element.appendChild(docLink);\n",
       "      }\n",
       "    </script>\n",
       "  </div>\n",
       "\n",
       "\n",
       "<div id=\"df-46a9614f-8f54-4f53-8884-5b0429a2afed\">\n",
       "  <button class=\"colab-df-quickchart\" onclick=\"quickchart('df-46a9614f-8f54-4f53-8884-5b0429a2afed')\"\n",
       "            title=\"Suggest charts\"\n",
       "            style=\"display:none;\">\n",
       "\n",
       "<svg xmlns=\"http://www.w3.org/2000/svg\" height=\"24px\"viewBox=\"0 0 24 24\"\n",
       "     width=\"24px\">\n",
       "    <g>\n",
       "        <path d=\"M19 3H5c-1.1 0-2 .9-2 2v14c0 1.1.9 2 2 2h14c1.1 0 2-.9 2-2V5c0-1.1-.9-2-2-2zM9 17H7v-7h2v7zm4 0h-2V7h2v10zm4 0h-2v-4h2v4z\"/>\n",
       "    </g>\n",
       "</svg>\n",
       "  </button>\n",
       "\n",
       "<style>\n",
       "  .colab-df-quickchart {\n",
       "      --bg-color: #E8F0FE;\n",
       "      --fill-color: #1967D2;\n",
       "      --hover-bg-color: #E2EBFA;\n",
       "      --hover-fill-color: #174EA6;\n",
       "      --disabled-fill-color: #AAA;\n",
       "      --disabled-bg-color: #DDD;\n",
       "  }\n",
       "\n",
       "  [theme=dark] .colab-df-quickchart {\n",
       "      --bg-color: #3B4455;\n",
       "      --fill-color: #D2E3FC;\n",
       "      --hover-bg-color: #434B5C;\n",
       "      --hover-fill-color: #FFFFFF;\n",
       "      --disabled-bg-color: #3B4455;\n",
       "      --disabled-fill-color: #666;\n",
       "  }\n",
       "\n",
       "  .colab-df-quickchart {\n",
       "    background-color: var(--bg-color);\n",
       "    border: none;\n",
       "    border-radius: 50%;\n",
       "    cursor: pointer;\n",
       "    display: none;\n",
       "    fill: var(--fill-color);\n",
       "    height: 32px;\n",
       "    padding: 0;\n",
       "    width: 32px;\n",
       "  }\n",
       "\n",
       "  .colab-df-quickchart:hover {\n",
       "    background-color: var(--hover-bg-color);\n",
       "    box-shadow: 0 1px 2px rgba(60, 64, 67, 0.3), 0 1px 3px 1px rgba(60, 64, 67, 0.15);\n",
       "    fill: var(--button-hover-fill-color);\n",
       "  }\n",
       "\n",
       "  .colab-df-quickchart-complete:disabled,\n",
       "  .colab-df-quickchart-complete:disabled:hover {\n",
       "    background-color: var(--disabled-bg-color);\n",
       "    fill: var(--disabled-fill-color);\n",
       "    box-shadow: none;\n",
       "  }\n",
       "\n",
       "  .colab-df-spinner {\n",
       "    border: 2px solid var(--fill-color);\n",
       "    border-color: transparent;\n",
       "    border-bottom-color: var(--fill-color);\n",
       "    animation:\n",
       "      spin 1s steps(1) infinite;\n",
       "  }\n",
       "\n",
       "  @keyframes spin {\n",
       "    0% {\n",
       "      border-color: transparent;\n",
       "      border-bottom-color: var(--fill-color);\n",
       "      border-left-color: var(--fill-color);\n",
       "    }\n",
       "    20% {\n",
       "      border-color: transparent;\n",
       "      border-left-color: var(--fill-color);\n",
       "      border-top-color: var(--fill-color);\n",
       "    }\n",
       "    30% {\n",
       "      border-color: transparent;\n",
       "      border-left-color: var(--fill-color);\n",
       "      border-top-color: var(--fill-color);\n",
       "      border-right-color: var(--fill-color);\n",
       "    }\n",
       "    40% {\n",
       "      border-color: transparent;\n",
       "      border-right-color: var(--fill-color);\n",
       "      border-top-color: var(--fill-color);\n",
       "    }\n",
       "    60% {\n",
       "      border-color: transparent;\n",
       "      border-right-color: var(--fill-color);\n",
       "    }\n",
       "    80% {\n",
       "      border-color: transparent;\n",
       "      border-right-color: var(--fill-color);\n",
       "      border-bottom-color: var(--fill-color);\n",
       "    }\n",
       "    90% {\n",
       "      border-color: transparent;\n",
       "      border-bottom-color: var(--fill-color);\n",
       "    }\n",
       "  }\n",
       "</style>\n",
       "\n",
       "  <script>\n",
       "    async function quickchart(key) {\n",
       "      const quickchartButtonEl =\n",
       "        document.querySelector('#' + key + ' button');\n",
       "      quickchartButtonEl.disabled = true;  // To prevent multiple clicks.\n",
       "      quickchartButtonEl.classList.add('colab-df-spinner');\n",
       "      try {\n",
       "        const charts = await google.colab.kernel.invokeFunction(\n",
       "            'suggestCharts', [key], {});\n",
       "      } catch (error) {\n",
       "        console.error('Error during call to suggestCharts:', error);\n",
       "      }\n",
       "      quickchartButtonEl.classList.remove('colab-df-spinner');\n",
       "      quickchartButtonEl.classList.add('colab-df-quickchart-complete');\n",
       "    }\n",
       "    (() => {\n",
       "      let quickchartButtonEl =\n",
       "        document.querySelector('#df-46a9614f-8f54-4f53-8884-5b0429a2afed button');\n",
       "      quickchartButtonEl.style.display =\n",
       "        google.colab.kernel.accessAllowed ? 'block' : 'none';\n",
       "    })();\n",
       "  </script>\n",
       "</div>\n",
       "    </div>\n",
       "  </div>\n"
      ],
      "text/plain": [
       "                             count unique        top       freq  \\\n",
       "Year                       6913204     20  y_2000_en     422075   \n",
       "Month                    6913204.0   17.0        8.0   640546.0   \n",
       "Weekday                  6913204.0   15.0        5.0   675079.0   \n",
       "Hour                       6913204     25         16     616745   \n",
       "Severity                 6913204.0    NaN        NaN        NaN   \n",
       "Num_vehicles             6913204.0   86.0        2.0  2588234.0   \n",
       "Collision_configuration    6913204     20         21    2081140   \n",
       "Road_configuration         6913204     12          2    3219265   \n",
       "Weather_condition          6913204      9          1    4831197   \n",
       "Road_surface               6913204     11          1    4559289   \n",
       "Road_alignment             6913204      8          1    4977754   \n",
       "Traffic_control            6913204     19         18    3571219   \n",
       "vehicle_id                 6913204    164          1    2340067   \n",
       "Vehicle_type               6913204     20          1    5739898   \n",
       "Vehicle_year               6913204    116       UUUU     362375   \n",
       "Person_id                  6913204     96          1    4959635   \n",
       "Person_sex                 6913204      4          M    3697197   \n",
       "Person_age                 6913204    101         UU     447220   \n",
       "Person_position            6913204     16         11    4647907   \n",
       "Person_injury_severity     6913204      5          2    3617076   \n",
       "Safety_device_used         6913204     10          2    4903542   \n",
       "Road_user_type             6913204      6          1    4329482   \n",
       "Collision_case           6913204.0    NaN        NaN        NaN   \n",
       "\n",
       "                                   mean            std       min       25%  \\\n",
       "Year                                NaN            NaN       NaN       NaN   \n",
       "Month                               NaN            NaN       NaN       NaN   \n",
       "Weekday                             NaN            NaN       NaN       NaN   \n",
       "Hour                                NaN            NaN       NaN       NaN   \n",
       "Severity                       1.983509       0.127354       1.0       2.0   \n",
       "Num_vehicles                        NaN            NaN       NaN       NaN   \n",
       "Collision_configuration             NaN            NaN       NaN       NaN   \n",
       "Road_configuration                  NaN            NaN       NaN       NaN   \n",
       "Weather_condition                   NaN            NaN       NaN       NaN   \n",
       "Road_surface                        NaN            NaN       NaN       NaN   \n",
       "Road_alignment                      NaN            NaN       NaN       NaN   \n",
       "Traffic_control                     NaN            NaN       NaN       NaN   \n",
       "vehicle_id                          NaN            NaN       NaN       NaN   \n",
       "Vehicle_type                        NaN            NaN       NaN       NaN   \n",
       "Vehicle_year                        NaN            NaN       NaN       NaN   \n",
       "Person_id                           NaN            NaN       NaN       NaN   \n",
       "Person_sex                          NaN            NaN       NaN       NaN   \n",
       "Person_age                          NaN            NaN       NaN       NaN   \n",
       "Person_position                     NaN            NaN       NaN       NaN   \n",
       "Person_injury_severity              NaN            NaN       NaN       NaN   \n",
       "Safety_device_used                  NaN            NaN       NaN       NaN   \n",
       "Road_user_type                      NaN            NaN       NaN       NaN   \n",
       "Collision_case           1457657.782408  760672.067969  151316.0  795588.0   \n",
       "\n",
       "                               50%         75%        max  \n",
       "Year                           NaN         NaN        NaN  \n",
       "Month                          NaN         NaN        NaN  \n",
       "Weekday                        NaN         NaN        NaN  \n",
       "Hour                           NaN         NaN        NaN  \n",
       "Severity                       2.0         2.0        2.0  \n",
       "Num_vehicles                   NaN         NaN        NaN  \n",
       "Collision_configuration        NaN         NaN        NaN  \n",
       "Road_configuration             NaN         NaN        NaN  \n",
       "Weather_condition              NaN         NaN        NaN  \n",
       "Road_surface                   NaN         NaN        NaN  \n",
       "Road_alignment                 NaN         NaN        NaN  \n",
       "Traffic_control                NaN         NaN        NaN  \n",
       "vehicle_id                     NaN         NaN        NaN  \n",
       "Vehicle_type                   NaN         NaN        NaN  \n",
       "Vehicle_year                   NaN         NaN        NaN  \n",
       "Person_id                      NaN         NaN        NaN  \n",
       "Person_sex                     NaN         NaN        NaN  \n",
       "Person_age                     NaN         NaN        NaN  \n",
       "Person_position                NaN         NaN        NaN  \n",
       "Person_injury_severity         NaN         NaN        NaN  \n",
       "Safety_device_used             NaN         NaN        NaN  \n",
       "Road_user_type                 NaN         NaN        NaN  \n",
       "Collision_case           1455185.0  2114928.25  2786266.0  "
      ]
     },
     "execution_count": 29,
     "metadata": {},
     "output_type": "execute_result"
    }
   ],
   "source": [
    "#Summary Statistics\n",
    "data.describe(include='all').T"
   ]
  },
  {
   "cell_type": "code",
   "execution_count": null,
   "metadata": {
    "colab": {
     "base_uri": "https://localhost:8080/",
     "height": 246
    },
    "id": "s5_Peg4xgcPp",
    "outputId": "faef65a4-1a55-4cd5-e3df-1053ef51546f"
   },
   "outputs": [
    {
     "ename": "NameError",
     "evalue": "ignored",
     "output_type": "error",
     "traceback": [
      "\u001b[0;31m---------------------------------------------------------------------------\u001b[0m",
      "\u001b[0;31mNameError\u001b[0m                                 Traceback (most recent call last)",
      "\u001b[0;32m<ipython-input-30-6ae69ab7f5bd>\u001b[0m in \u001b[0;36m<cell line: 1>\u001b[0;34m()\u001b[0m\n\u001b[0;32m----> 1\u001b[0;31m \u001b[0mcategorical_df\u001b[0m \u001b[0;34m=\u001b[0m \u001b[0mpd\u001b[0m\u001b[0;34m.\u001b[0m\u001b[0mDataFrame\u001b[0m\u001b[0;34m(\u001b[0m\u001b[0mdata\u001b[0m\u001b[0;34m[\u001b[0m\u001b[0mcategorical_attributes\u001b[0m\u001b[0;34m]\u001b[0m\u001b[0;34m)\u001b[0m\u001b[0;34m\u001b[0m\u001b[0;34m\u001b[0m\u001b[0m\n\u001b[0m\u001b[1;32m      2\u001b[0m \u001b[0;34m\u001b[0m\u001b[0m\n\u001b[1;32m      3\u001b[0m \u001b[0;31m# Set the plot size\u001b[0m\u001b[0;34m\u001b[0m\u001b[0;34m\u001b[0m\u001b[0m\n\u001b[1;32m      4\u001b[0m \u001b[0mplt\u001b[0m\u001b[0;34m.\u001b[0m\u001b[0mfigure\u001b[0m\u001b[0;34m(\u001b[0m\u001b[0mfigsize\u001b[0m\u001b[0;34m=\u001b[0m\u001b[0;34m(\u001b[0m\u001b[0;36m15\u001b[0m\u001b[0;34m,\u001b[0m \u001b[0;36m10\u001b[0m\u001b[0;34m)\u001b[0m\u001b[0;34m)\u001b[0m\u001b[0;34m\u001b[0m\u001b[0;34m\u001b[0m\u001b[0m\n\u001b[1;32m      5\u001b[0m \u001b[0;34m\u001b[0m\u001b[0m\n",
      "\u001b[0;31mNameError\u001b[0m: name 'categorical_attributes' is not defined"
     ]
    }
   ],
   "source": [
    "categorical_df = pd.DataFrame(data[categorical_attributes])\n",
    "\n",
    "# Set the plot size\n",
    "plt.figure(figsize=(15, 10))\n",
    "\n",
    "# Loop through each categorical attribute and create count plots\n",
    "for i, col in enumerate(categorical_df.columns):\n",
    "    plt.subplot(4, 3, i+1)  # Adjust the subplot layout as per your number of attributes\n",
    "    sns.countplot(x=col, data=categorical_df)\n",
    "    plt.xticks(rotation='vertical')\n",
    "    plt.xlabel(col)\n",
    "    plt.ylabel('Count')\n",
    "\n",
    "plt.tight_layout()  # Adjust the spacing between subplots if necessary\n",
    "plt.show()"
   ]
  },
  {
   "cell_type": "code",
   "execution_count": null,
   "metadata": {
    "colab": {
     "base_uri": "https://localhost:8080/"
    },
    "id": "g2uUKIuj-nbw",
    "outputId": "2be8bc44-db66-4208-e3f0-2a09f8c4d8cd"
   },
   "outputs": [
    {
     "data": {
      "text/plain": [
       "Year                       0\n",
       "Month                      0\n",
       "Weekday                    0\n",
       "Hour                       0\n",
       "Severity                   0\n",
       "Num_vehicles               0\n",
       "Collision_configuration    0\n",
       "Road_configuration         0\n",
       "Weather_condition          0\n",
       "Road_surface               0\n",
       "Road_alignment             0\n",
       "Traffic_control            0\n",
       "vehicle_id                 0\n",
       "Vehicle_type               0\n",
       "Vehicle_year               0\n",
       "Person_id                  0\n",
       "Person_sex                 0\n",
       "Person_age                 0\n",
       "Person_position            0\n",
       "Person_injury_severity     0\n",
       "Safety_device_used         0\n",
       "Road_user_type             0\n",
       "Collision_case             0\n",
       "dtype: int64"
      ]
     },
     "execution_count": 31,
     "metadata": {},
     "output_type": "execute_result"
    }
   ],
   "source": [
    "# Checking for null values\n",
    "null_values = data.isnull().sum()\n",
    "null_values"
   ]
  },
  {
   "cell_type": "code",
   "execution_count": null,
   "metadata": {
    "colab": {
     "base_uri": "https://localhost:8080/"
    },
    "id": "DhmAAeyk_rPm",
    "outputId": "0f113d40-b137-4364-9835-99a97c94a265"
   },
   "outputs": [
    {
     "data": {
      "text/plain": [
       "Year                            20\n",
       "Month                           17\n",
       "Weekday                         15\n",
       "Hour                            25\n",
       "Severity                         2\n",
       "Num_vehicles                    86\n",
       "Collision_configuration         20\n",
       "Road_configuration              12\n",
       "Weather_condition                9\n",
       "Road_surface                    11\n",
       "Road_alignment                   8\n",
       "Traffic_control                 19\n",
       "vehicle_id                     164\n",
       "Vehicle_type                    20\n",
       "Vehicle_year                   116\n",
       "Person_id                       96\n",
       "Person_sex                       4\n",
       "Person_age                     101\n",
       "Person_position                 16\n",
       "Person_injury_severity           5\n",
       "Safety_device_used              10\n",
       "Road_user_type                   6\n",
       "Collision_case             2634951\n",
       "dtype: int64"
      ]
     },
     "execution_count": 32,
     "metadata": {},
     "output_type": "execute_result"
    }
   ],
   "source": [
    "#Count of unique values in each feature\n",
    "data.nunique()"
   ]
  },
  {
   "cell_type": "code",
   "execution_count": null,
   "metadata": {
    "id": "k10l1-uDGnt2"
   },
   "outputs": [],
   "source": [
    "#We are not converting U's because, that means its a hit and run case\n",
    "\n",
    "data.replace(['U', 'UU', 'UUUU'], 0, inplace=True)\n",
    "\n",
    "#convert ',N', 'Q', 'NN', 'NNNN', 'QQ', 'QQQQ', 'QQQQ', 'NNN' to np.nan\n",
    "placeholders_for_nan = [',N', 'Q', 'NN', 'NNNN', 'QQ', 'QQQQ', 'QQQQ', 'NNN']\n",
    "data.replace(placeholders_for_nan, np.nan, inplace=True)\n"
   ]
  },
  {
   "cell_type": "code",
   "execution_count": null,
   "metadata": {
    "colab": {
     "base_uri": "https://localhost:8080/"
    },
    "id": "5zBjfPzhIUjd",
    "outputId": "9227f083-3262-42d1-f2d8-732063777021"
   },
   "outputs": [
    {
     "data": {
      "text/plain": [
       "Year                            0\n",
       "Month                           0\n",
       "Weekday                         0\n",
       "Hour                            0\n",
       "Severity                        0\n",
       "Num_vehicles                    0\n",
       "Collision_configuration    351708\n",
       "Road_configuration         176414\n",
       "Weather_condition           16749\n",
       "Road_surface               203519\n",
       "Road_alignment              31353\n",
       "Traffic_control             96489\n",
       "vehicle_id                      0\n",
       "Vehicle_type               310410\n",
       "Vehicle_year               317721\n",
       "Person_id                   12334\n",
       "Person_sex                      0\n",
       "Person_age                  19779\n",
       "Person_position             66112\n",
       "Person_injury_severity          0\n",
       "Safety_device_used         773948\n",
       "Road_user_type                  0\n",
       "Collision_case                  0\n",
       "dtype: int64"
      ]
     },
     "execution_count": 34,
     "metadata": {},
     "output_type": "execute_result"
    }
   ],
   "source": [
    "#sum of null values in each feature\n",
    "data.isnull().sum()"
   ]
  },
  {
   "cell_type": "markdown",
   "metadata": {
    "id": "cZpZiQNuChfU"
   },
   "source": [
    "##Handling Null Values in Important Features"
   ]
  },
  {
   "cell_type": "markdown",
   "metadata": {
    "id": "EfhgA28jEcbx"
   },
   "source": [
    "1. Person_age"
   ]
  },
  {
   "cell_type": "code",
   "execution_count": null,
   "metadata": {
    "colab": {
     "base_uri": "https://localhost:8080/"
    },
    "id": "y8FLC4-2JFqr",
    "outputId": "f520c206-6512-4edc-d257-95bf5cbf986d"
   },
   "outputs": [
    {
     "data": {
      "text/plain": [
       "Year                            0\n",
       "Month                           0\n",
       "Weekday                         0\n",
       "Hour                            0\n",
       "Severity                        0\n",
       "Num_vehicles                    0\n",
       "Collision_configuration    351708\n",
       "Road_configuration         176414\n",
       "Weather_condition           16749\n",
       "Road_surface               203519\n",
       "Road_alignment              31353\n",
       "Traffic_control             96489\n",
       "vehicle_id                      0\n",
       "Vehicle_type               310410\n",
       "Vehicle_year                    0\n",
       "Person_id                   12334\n",
       "Person_sex                      0\n",
       "Person_age                      0\n",
       "Person_position             66112\n",
       "Person_injury_severity          0\n",
       "Safety_device_used              0\n",
       "Road_user_type                  0\n",
       "Collision_case                  0\n",
       "dtype: int64"
      ]
     },
     "execution_count": 43,
     "metadata": {},
     "output_type": "execute_result"
    }
   ],
   "source": [
    "age_median = data['Person_age'].median()\n",
    "#Filled NaN values in 'Person_age' with the calculated median\n",
    "data['Person_age'].fillna(age_median, inplace=True)\n",
    "data.isnull().sum()"
   ]
  },
  {
   "cell_type": "code",
   "execution_count": null,
   "metadata": {
    "id": "9zJMHSqyNACL"
   },
   "outputs": [],
   "source": [
    "#changing 'Person_age' datatype from object to integer\n",
    "data['Person_age'] = data['Person_age'].astype(int)"
   ]
  },
  {
   "cell_type": "markdown",
   "metadata": {
    "id": "wSdiR0F2LLDM"
   },
   "source": [
    "2. Safety Device Used"
   ]
  },
  {
   "cell_type": "code",
   "execution_count": null,
   "metadata": {
    "colab": {
     "base_uri": "https://localhost:8080/"
    },
    "id": "l5rKPdehKicS",
    "outputId": "ab242612-3ad8-42a6-db5e-23689fd2b606"
   },
   "outputs": [
    {
     "data": {
      "text/plain": [
       "array(['2', nan, '12', '9', '13', '1', 0, '11', '10'], dtype=object)"
      ]
     },
     "execution_count": 38,
     "metadata": {},
     "output_type": "execute_result"
    }
   ],
   "source": [
    "data['Safety_device_used'].unique()"
   ]
  },
  {
   "cell_type": "code",
   "execution_count": null,
   "metadata": {
    "colab": {
     "base_uri": "https://localhost:8080/"
    },
    "id": "VRv0DEpuLu3T",
    "outputId": "d2b9f9ad-40ec-455f-b702-90be41475c74"
   },
   "outputs": [
    {
     "data": {
      "text/plain": [
       "0"
      ]
     },
     "execution_count": 39,
     "metadata": {},
     "output_type": "execute_result"
    }
   ],
   "source": [
    "#we will replace nan with 20 here (categorical value): which means people might not have used any safety devices\n",
    "data['Safety_device_used'].fillna(50, inplace=True)\n",
    "data['Safety_device_used'].isnull().sum()"
   ]
  },
  {
   "cell_type": "code",
   "execution_count": null,
   "metadata": {
    "colab": {
     "base_uri": "https://localhost:8080/"
    },
    "id": "H6fERuySL5kW",
    "outputId": "39f874f6-f8ef-48fa-de26-163df78e6ef9"
   },
   "outputs": [
    {
     "data": {
      "text/plain": [
       "Year                            0\n",
       "Month                           0\n",
       "Weekday                         0\n",
       "Hour                            0\n",
       "Severity                        0\n",
       "Num_vehicles                    0\n",
       "Collision_configuration    351708\n",
       "Road_configuration         176414\n",
       "Weather_condition           16749\n",
       "Road_surface               203519\n",
       "Road_alignment              31353\n",
       "Traffic_control             96489\n",
       "vehicle_id                      0\n",
       "Vehicle_type               310410\n",
       "Vehicle_year               317721\n",
       "Person_id                   12334\n",
       "Person_sex                      0\n",
       "Person_age                      0\n",
       "Person_position             66112\n",
       "Person_injury_severity          0\n",
       "Safety_device_used              0\n",
       "Road_user_type                  0\n",
       "Collision_case                  0\n",
       "dtype: int64"
      ]
     },
     "execution_count": 40,
     "metadata": {},
     "output_type": "execute_result"
    }
   ],
   "source": [
    "data.isnull().sum()"
   ]
  },
  {
   "cell_type": "markdown",
   "metadata": {
    "id": "pv4I4s3T2mPC"
   },
   "source": [
    "3. Year (extract the year from string)"
   ]
  },
  {
   "cell_type": "code",
   "execution_count": null,
   "metadata": {
    "colab": {
     "base_uri": "https://localhost:8080/"
    },
    "id": "Wqy1-SfD2TbU",
    "outputId": "61e2cfb2-3ab0-4256-9dfa-1fa997dab718"
   },
   "outputs": [
    {
     "data": {
      "text/plain": [
       "0          2000\n",
       "1          2000\n",
       "2          2000\n",
       "3          2000\n",
       "4          2000\n",
       "           ... \n",
       "6913199    2019\n",
       "6913200    2019\n",
       "6913201    2019\n",
       "6913202    2019\n",
       "6913203    2019\n",
       "Name: Year, Length: 6913204, dtype: object"
      ]
     },
     "execution_count": 41,
     "metadata": {},
     "output_type": "execute_result"
    }
   ],
   "source": [
    "# Handling the 'Year' column: Extracting the year from the string\n",
    "data['Year']= data['Year'].str.extract('(\\d+)')\n",
    "data['Year']"
   ]
  },
  {
   "cell_type": "markdown",
   "metadata": {
    "id": "HbxHjZNFFSJX"
   },
   "source": [
    "4. Vehicle_year"
   ]
  },
  {
   "cell_type": "code",
   "execution_count": null,
   "metadata": {
    "id": "PeR6Drfx2hgF"
   },
   "outputs": [],
   "source": [
    "vehicle_year_median = data['Vehicle_year'].median()\n",
    "#Filled NaN values in 'Vehicle_year' with the calculated median\n",
    "data['Vehicle_year'].fillna(vehicle_year_median, inplace=True)"
   ]
  },
  {
   "cell_type": "markdown",
   "metadata": {
    "id": "ETSxUFruFdlB"
   },
   "source": [
    "##Converting categorical datatypes to **numerical**"
   ]
  },
  {
   "cell_type": "code",
   "execution_count": null,
   "metadata": {
    "id": "cLpwJurY2hjR"
   },
   "outputs": [],
   "source": [
    "#data['Year'] = pd.to_numeric(data['Year']).astype(int)\n",
    "data['Hour'] = pd.to_numeric(data['Hour']).astype(int)\n",
    "data['Weekday'] = pd.to_numeric(data['Weekday']).astype(int)\n",
    "data['Month'] = pd.to_numeric(data['Month']).astype(int)\n",
    "data['Num_vehicles'] = pd.to_numeric(data['Num_vehicles']).astype(int)\n",
    "#data['vehicle_id'] = pd.to_numeric(data['vehicle_id']).astype(int)\n",
    "data['Vehicle_year'] = pd.to_numeric(data['Vehicle_year']).astype(int)\n",
    "#data['Person_id'] = pd.to_numeric(data['Person_id']).astype(int)"
   ]
  },
  {
   "cell_type": "code",
   "execution_count": null,
   "metadata": {
    "colab": {
     "base_uri": "https://localhost:8080/"
    },
    "id": "bWj6cLpo32Pw",
    "outputId": "bda5cc8c-6fc0-410e-961b-141d1ce140fd"
   },
   "outputs": [
    {
     "data": {
      "text/plain": [
       "Year                       object\n",
       "Month                       int64\n",
       "Weekday                     int64\n",
       "Hour                        int64\n",
       "Severity                    int64\n",
       "Num_vehicles                int64\n",
       "Collision_configuration    object\n",
       "Road_configuration         object\n",
       "Weather_condition          object\n",
       "Road_surface               object\n",
       "Road_alignment             object\n",
       "Traffic_control            object\n",
       "vehicle_id                 object\n",
       "Vehicle_type               object\n",
       "Vehicle_year                int64\n",
       "Person_id                  object\n",
       "Person_sex                 object\n",
       "Person_age                  int64\n",
       "Person_position            object\n",
       "Person_injury_severity     object\n",
       "Safety_device_used         object\n",
       "Road_user_type             object\n",
       "Collision_case              int64\n",
       "dtype: object"
      ]
     },
     "execution_count": 46,
     "metadata": {},
     "output_type": "execute_result"
    }
   ],
   "source": [
    "data.dtypes"
   ]
  },
  {
   "cell_type": "code",
   "execution_count": null,
   "metadata": {
    "colab": {
     "base_uri": "https://localhost:8080/",
     "height": 1000
    },
    "id": "f3dkwuCA2hmA",
    "outputId": "94c44fbc-1bba-4117-c45c-2cf5977f047a"
   },
   "outputs": [
    {
     "data": {
      "image/png": "[encoded data removed]",
      "text/plain": [
       "<Figure size 1500x1000 with 6 Axes>"
      ]
     },
     "metadata": {},
     "output_type": "display_data"
    }
   ],
   "source": [
    "#Filtering the integer columns based on the specified list\n",
    "filtered_integer_columns = ['Month', 'Weekday', 'Hour','Vehicle_year', 'Num_vehicles',  'Person_age']\n",
    "\n",
    "plt.figure(figsize=(15, 10))\n",
    "\n",
    "for i, column in enumerate(filtered_integer_columns, 1):# for index, value in enumerate(iterable,starat = 0):\n",
    "    plt.subplot(len(filtered_integer_columns), 1, i)\n",
    "    sns.boxplot(x=data[column])\n",
    "    plt.title(column)\n",
    "\n",
    "plt.tight_layout()\n",
    "plt.show()\n"
   ]
  },
  {
   "cell_type": "markdown",
   "metadata": {
    "id": "0recUQQlO_qW"
   },
   "source": [
    "#### null_values in month"
   ]
  },
  {
   "cell_type": "code",
   "execution_count": null,
   "metadata": {
    "colab": {
     "base_uri": "https://localhost:8080/"
    },
    "id": "1oXV4kyz5CYY",
    "outputId": "e5954369-9537-4918-b60c-22c69e04789d"
   },
   "outputs": [
    {
     "data": {
      "text/plain": [
       "array([ 1.,  2.,  3.,  4.,  5.,  6.,  7.,  8.,  9., 10., 11., 12.,  0.])"
      ]
     },
     "execution_count": 48,
     "metadata": {},
     "output_type": "execute_result"
    }
   ],
   "source": [
    "data.loc[data['Month'] > 12] = np.nan\n",
    "#month_median = data['Month'].median()\n",
    "data['Month'].fillna(13, inplace=True)\n",
    "data['Month'].unique()"
   ]
  },
  {
   "cell_type": "code",
   "execution_count": null,
   "metadata": {
    "id": "7TBg8v7AO4rr"
   },
   "outputs": [],
   "source": [
    "#month_median"
   ]
  },
  {
   "cell_type": "code",
   "execution_count": null,
   "metadata": {
    "colab": {
     "base_uri": "https://localhost:8080/"
    },
    "id": "XkU8WY_GBNIz",
    "outputId": "70318126-5b78-4f88-efd8-2ef84960fc84"
   },
   "outputs": [
    {
     "data": {
      "text/plain": [
       "(6913204, 23)"
      ]
     },
     "execution_count": 50,
     "metadata": {},
     "output_type": "execute_result"
    }
   ],
   "source": [
    "data.shape"
   ]
  },
  {
   "cell_type": "code",
   "execution_count": null,
   "metadata": {
    "id": "twcrYbOQO7uo"
   },
   "outputs": [],
   "source": []
  },
  {
   "cell_type": "markdown",
   "metadata": {
    "id": "Q2UVO-ZFO8be"
   },
   "source": [
    "#### Null values in vehicle year"
   ]
  },
  {
   "cell_type": "code",
   "execution_count": null,
   "metadata": {
    "colab": {
     "base_uri": "https://localhost:8080/"
    },
    "id": "hTV9gz_q5soq",
    "outputId": "ae20c2ba-15ba-47a2-fb0c-cbc4cf1e3d44"
   },
   "outputs": [
    {
     "data": {
      "text/plain": [
       "array([   0., 2001., 2000., 1997., 1989., 1999., 1993., 1990., 1991.,\n",
       "       1980., 1994., 1988., 1995., 1996., 1982., 1998., 1985., 1986.,\n",
       "       1992., 1987., 1984., 1979., 1978., 1983., 1975., 1976., 1974.,\n",
       "       1981., 1967., 1977., 1961., 1964., 1972., 1956., 1971., 1973.,\n",
       "       1969., 1970., 1947., 1957., 1963., 1966., 1955., 1950., 1962.,\n",
       "       1917., 1948., 1968., 1914., 1913., 1940., 1920., 1951., 1965.,\n",
       "       1932., 1925., 1953., 1927., 2002., 1939., 1960., 1941., 1945.,\n",
       "       1938., 1949., 1954., 1916., 1933., 1935., 1929., 1937., 1959.,\n",
       "       1930., 1923., 1928., 1944., 1958., 1942., 1919., 1926., 1931.,\n",
       "       1918., 2003., 1952., 1946., 1924., 1922., 1901., 1915., 1934.,\n",
       "       1903., 2004., 2005., 1904., 2006., 1912., 2007., 2008., 1943.,\n",
       "       1911., 2009., 2010., 2011., 1936., 2012., 1910., 1921., 2013.,\n",
       "       2014., 2015., 2016., 2017., 2018., 2019., 2020.])"
      ]
     },
     "execution_count": 51,
     "metadata": {},
     "output_type": "execute_result"
    }
   ],
   "source": [
    "data['Vehicle_year'].unique()\n",
    "#we have a zero, which is a outlier"
   ]
  },
  {
   "cell_type": "code",
   "execution_count": null,
   "metadata": {
    "colab": {
     "base_uri": "https://localhost:8080/"
    },
    "id": "UdkRk9KzXQh7",
    "outputId": "8856f1ec-56c1-4656-dbfb-782d34475b26"
   },
   "outputs": [
    {
     "data": {
      "text/plain": [
       "array([2001., 2000., 1997., 1989., 1999., 1993., 1990., 1991., 1980.,\n",
       "       1994., 1988., 1995., 1996., 1982., 1998., 1985., 1986., 1992.,\n",
       "       1987., 1984., 1979., 1978., 1983., 1975., 1976., 1974., 1981.,\n",
       "       1967., 1977., 1961., 1964., 1972., 1956., 1971., 1973., 1969.,\n",
       "       1970., 1947., 1957., 1963., 1966., 1955., 1950., 1962., 1917.,\n",
       "       1948., 1968., 1914., 1913., 1940., 1920., 1951., 1965., 1932.,\n",
       "       1925., 1953., 1927., 2002., 1939., 1960., 1941., 1945., 1938.,\n",
       "       1949., 1954., 1916., 1933., 1935., 1929., 1937., 1959., 1930.,\n",
       "       1923., 1928., 1944., 1958., 1942., 1919., 1926., 1931., 1918.,\n",
       "       2003., 1952., 1946., 1924., 1922., 1901., 1915., 1934., 1903.,\n",
       "       2004., 2005., 1904., 2006., 1912., 2007., 2008., 1943., 1911.,\n",
       "       2009., 2010., 2011., 1936., 2012., 1910., 1921., 2013., 2014.,\n",
       "       2015., 2016., 2017., 2018., 2019.])"
      ]
     },
     "execution_count": 52,
     "metadata": {},
     "output_type": "execute_result"
    }
   ],
   "source": [
    "#Filtering out the years and removing outliers\n",
    "data = data[(data['Vehicle_year'] > 0) & (data['Vehicle_year'] <= 2019)]\n",
    "unique_vehicle_years = data['Vehicle_year'].unique()\n",
    "unique_vehicle_years\n"
   ]
  },
  {
   "cell_type": "markdown",
   "metadata": {
    "id": "GQSiWU34OzH7"
   },
   "source": [
    "### Null values in vehicle type"
   ]
  },
  {
   "cell_type": "code",
   "execution_count": null,
   "metadata": {
    "colab": {
     "base_uri": "https://localhost:8080/"
    },
    "id": "fa4UiYdFMH9B",
    "outputId": "0763ffcd-457b-4d80-f2c8-3be36030fd6f"
   },
   "outputs": [
    {
     "name": "stdout",
     "output_type": "stream",
     "text": [
      "unique values : [nan '1' 0 '16' '5' '8' '7' '22' '6' '11' '17' '20' '9' '23' '14' '10'\n",
      " '18' '21' '19']\n",
      "Total null_values in vehicle type 304022\n"
     ]
    }
   ],
   "source": [
    "print(f\"unique values : {data['Vehicle_type'].unique()}\")\n",
    "print(f\"Total null_values in vehicle type {data['Vehicle_type'].isnull().sum()}\")\n",
    "#we have many nans\n",
    "# 0 means hit and run\n",
    "# will replace the null values with a different number (since this is categorical column we are not using any numbers, and replacing the nans with 25)"
   ]
  },
  {
   "cell_type": "code",
   "execution_count": null,
   "metadata": {
    "colab": {
     "base_uri": "https://localhost:8080/"
    },
    "id": "T5lq2Bm1Ohz8",
    "outputId": "4c2f1ba6-1b72-4929-991b-5f317cdb0ab7"
   },
   "outputs": [
    {
     "data": {
      "text/plain": [
       "array([50, '1', 0, '16', '5', '8', '7', '22', '6', '11', '17', '20', '9',\n",
       "       '23', '14', '10', '18', '21', '19'], dtype=object)"
      ]
     },
     "execution_count": 54,
     "metadata": {},
     "output_type": "execute_result"
    }
   ],
   "source": [
    "data['Vehicle_type'].fillna(50, inplace=True)\n",
    "data['Vehicle_type'].unique()"
   ]
  },
  {
   "cell_type": "code",
   "execution_count": null,
   "metadata": {
    "colab": {
     "base_uri": "https://localhost:8080/"
    },
    "id": "BnT8NCGfOuXk",
    "outputId": "919aaf6b-c1f6-47de-f53e-e02a42ecea98"
   },
   "outputs": [
    {
     "name": "stdout",
     "output_type": "stream",
     "text": [
      "Total null_values in vehicle type 0\n"
     ]
    }
   ],
   "source": [
    "print(f\"Total null_values in vehicle type {data['Vehicle_type'].isnull().sum()}\")"
   ]
  },
  {
   "cell_type": "markdown",
   "metadata": {
    "id": "xrRxJShDRuj-"
   },
   "source": [
    "#### Null values in Collision Cofiguration"
   ]
  },
  {
   "cell_type": "code",
   "execution_count": null,
   "metadata": {
    "colab": {
     "base_uri": "https://localhost:8080/"
    },
    "id": "sykORp6wPOc3",
    "outputId": "4fcfed44-a0ab-476e-fa93-1359697a693d"
   },
   "outputs": [
    {
     "name": "stdout",
     "output_type": "stream",
     "text": [
      "unique values : [nan '2' '21' '3' 0 '35' '4' '1' '6' '33' '31' '24' '22' '32' '23' '41'\n",
      " '5' '34' '36' '25']\n",
      "Total null_values in Collision configuration318788\n"
     ]
    }
   ],
   "source": [
    "print(f\"unique values : {data['Collision_configuration'].unique()}\")\n",
    "print(f\"Total null_values in Collision configuration{data['Collision_configuration'].isnull().sum()}\")\n",
    "#we have many nans\n",
    "# 0 means hit and run\n",
    "# will replace the null values with a different number (since this is categorical column we are not using any numbers)\n",
    "#50 means different category : Unknown."
   ]
  },
  {
   "cell_type": "code",
   "execution_count": null,
   "metadata": {
    "id": "UHfwH5O8PlpP"
   },
   "outputs": [],
   "source": [
    "data['Collision_configuration'].fillna(50, inplace=True)\n",
    "#50 means different category : Unknown."
   ]
  },
  {
   "cell_type": "markdown",
   "metadata": {
    "id": "02lhxsAxR5nB"
   },
   "source": [
    "### Null values in Road Surface"
   ]
  },
  {
   "cell_type": "code",
   "execution_count": null,
   "metadata": {
    "colab": {
     "base_uri": "https://localhost:8080/"
    },
    "id": "a-A3XbOjP4OA",
    "outputId": "05a6c7a1-14d0-4c8e-8885-0b0a37ef40da"
   },
   "outputs": [
    {
     "name": "stdout",
     "output_type": "stream",
     "text": [
      "unique values : ['2' '3' '1' '5' '4' 0 nan '6' '7' '9' '8']\n",
      "Total null_values in Road_surface 200570\n",
      "Total null_values in Road_surface after cleaning is 0\n"
     ]
    }
   ],
   "source": [
    "print(f\"unique values : {data['Road_surface'].unique()}\")\n",
    "print(f\"Total null_values in Road_surface {data['Road_surface'].isnull().sum()}\")\n",
    "#we have many nans\n",
    "# 0 means hit and run\n",
    "# will replace the null values with a different number (since this is categorical column we are not using any numbers)\n",
    "#50 means different category : Unknown.\n",
    "data['Road_surface'].fillna(50, inplace=True)\n",
    "print(f\"Total null_values in Road_surface after cleaning is {data['Road_surface'].isnull().sum()}\")\n",
    "#50 means different category : Unknown."
   ]
  },
  {
   "cell_type": "code",
   "execution_count": null,
   "metadata": {
    "colab": {
     "base_uri": "https://localhost:8080/"
    },
    "id": "EM5ULWWHQzlv",
    "outputId": "48d649aa-626f-4f28-fc56-815a84f8113a"
   },
   "outputs": [
    {
     "data": {
      "text/plain": [
       "Year                            0\n",
       "Month                           0\n",
       "Weekday                         0\n",
       "Hour                            0\n",
       "Severity                        0\n",
       "Num_vehicles                    0\n",
       "Collision_configuration         0\n",
       "Road_configuration         164897\n",
       "Weather_condition           16101\n",
       "Road_surface                    0\n",
       "Road_alignment              29762\n",
       "Traffic_control             92256\n",
       "vehicle_id                      0\n",
       "Vehicle_type                    0\n",
       "Vehicle_year                    0\n",
       "Person_id                   11598\n",
       "Person_sex                      0\n",
       "Person_age                      0\n",
       "Person_position             63496\n",
       "Person_injury_severity          0\n",
       "Safety_device_used              0\n",
       "Road_user_type                  0\n",
       "Collision_case                  0\n",
       "dtype: int64"
      ]
     },
     "execution_count": 59,
     "metadata": {},
     "output_type": "execute_result"
    }
   ],
   "source": [
    "data.isnull().sum()\n"
   ]
  },
  {
   "cell_type": "markdown",
   "metadata": {
    "id": "mHYdicE6ZJpn"
   },
   "source": [
    "### Null values in Traffic Control"
   ]
  },
  {
   "cell_type": "code",
   "execution_count": null,
   "metadata": {
    "colab": {
     "base_uri": "https://localhost:8080/"
    },
    "id": "iFT7NJp9QoC2",
    "outputId": "fecc11e7-81b3-4aea-b4bd-5957b2fdb720"
   },
   "outputs": [
    {
     "name": "stdout",
     "output_type": "stream",
     "text": [
      "unique values : ['18' '1' 0 '3' '6' '11' '8' '10' '15' '4' '13' '2' '5' nan '16' '17' '7'\n",
      " '9' '12']\n",
      "Total null_values in Traffic_control 92256\n",
      "Total null_values in Traffic_control after cleaning is 0\n"
     ]
    }
   ],
   "source": [
    "print(f\"unique values : {data['Traffic_control'].unique()}\")\n",
    "print(f\"Total null_values in Traffic_control {data['Traffic_control'].isnull().sum()}\")\n",
    "#we have many nans\n",
    "# 0 means hit and run\n",
    "# will replace the null values with a different number (since this is categorical column we are not using any numbers)\n",
    "#50 means different category : Unknown.\n",
    "data['Traffic_control'].fillna(50, inplace=True)\n",
    "print(f\"Total null_values in Traffic_control after cleaning is {data['Traffic_control'].isnull().sum()}\")\n",
    "#50 means different category : Unknown."
   ]
  },
  {
   "cell_type": "markdown",
   "metadata": {
    "id": "3IxTyjJTZO2K"
   },
   "source": [
    "### Null Values in Road Configuration"
   ]
  },
  {
   "cell_type": "code",
   "execution_count": null,
   "metadata": {
    "colab": {
     "base_uri": "https://localhost:8080/"
    },
    "id": "wbutGehfYyQn",
    "outputId": "5a29b317-2c68-445e-aa41-4e19cca0fb23"
   },
   "outputs": [
    {
     "name": "stdout",
     "output_type": "stream",
     "text": [
      "unique values : [0 '2' nan '1' '5' '4' '6' '3' '8' '7' '9' '10']\n",
      "Total null_values in Road_configuration 164897\n",
      "Total null_values in Road_configuration after cleaning is 0\n"
     ]
    }
   ],
   "source": [
    "print(f\"unique values : {data['Road_configuration'].unique()}\")\n",
    "print(f\"Total null_values in Road_configuration {data['Road_configuration'].isnull().sum()}\")\n",
    "#we have many nans\n",
    "# 0 means hit and run\n",
    "# will replace the null values with a different number (since this is categorical column we are not using any numbers)\n",
    "#50 means different category : Unknown.\n",
    "data['Road_configuration'].fillna(50, inplace=True)\n",
    "print(f\"Total null_values in Road_configuration after cleaning is {data['Road_configuration'].isnull().sum()}\")\n",
    "#50 means different category : Unknown."
   ]
  },
  {
   "cell_type": "markdown",
   "metadata": {
    "id": "Tn_EmFvydScJ"
   },
   "source": [
    "### Null Values in Person_position"
   ]
  },
  {
   "cell_type": "code",
   "execution_count": null,
   "metadata": {
    "colab": {
     "base_uri": "https://localhost:8080/"
    },
    "id": "xlcH_snadSu2",
    "outputId": "db86e0b1-772a-4d5b-dabc-62b2c7dcc913"
   },
   "outputs": [
    {
     "name": "stdout",
     "output_type": "stream",
     "text": [
      "unique values : ['99' '11' nan '13' '12' '21' '22' '23' 0 '98' '96' '32' '33' '31' '97']\n",
      "Total null_values in Person_position 63496\n",
      "Total null_values in Person_position after cleaning is 0\n"
     ]
    }
   ],
   "source": [
    "print(f\"unique values : {data['Person_position'].unique()}\")\n",
    "print(f\"Total null_values in Person_position {data['Person_position'].isnull().sum()}\")\n",
    "#we have many nans\n",
    "# 0 means hit and run\n",
    "# will replace the null values with a different number (since this is categorical column we are not using any numbers)\n",
    "#50 means different category : Unknown.\n",
    "data['Person_position'].fillna(50, inplace=True)\n",
    "print(f\"Total null_values in Person_position after cleaning is {data['Person_position'].isnull().sum()}\")\n",
    "#50 means different category : Unknown."
   ]
  },
  {
   "cell_type": "markdown",
   "metadata": {
    "id": "kwma4I1puHL5"
   },
   "source": [
    "### Drop the null values"
   ]
  },
  {
   "cell_type": "code",
   "execution_count": null,
   "metadata": {
    "colab": {
     "base_uri": "https://localhost:8080/"
    },
    "id": "9gR1LfOeuDz6",
    "outputId": "93bc255e-c862-4a4b-d32d-63ec97b1ece3"
   },
   "outputs": [
    {
     "data": {
      "text/plain": [
       "(6492680, 23)"
      ]
     },
     "execution_count": 63,
     "metadata": {},
     "output_type": "execute_result"
    }
   ],
   "source": [
    "#Dropping the null values\n",
    "data_clean = data.dropna()\n",
    "data_clean.shape"
   ]
  },
  {
   "cell_type": "markdown",
   "metadata": {
    "id": "nPSLkp3T1qtF"
   },
   "source": [
    "# Univariate & Bivariate Analysis:"
   ]
  },
  {
   "cell_type": "code",
   "execution_count": null,
   "metadata": {
    "colab": {
     "base_uri": "https://localhost:8080/",
     "height": 300
    },
    "id": "I3wo_Ptw1vRe",
    "outputId": "dfa359ce-60a7-4cb9-a9f8-b2e47f142296"
   },
   "outputs": [
    {
     "data": {
      "text/html": [
       "\n",
       "  <div id=\"df-b241e4fa-598b-48e3-a51f-a2044e6417a5\" class=\"colab-df-container\">\n",
       "    <div>\n",
       "<style scoped>\n",
       "    .dataframe tbody tr th:only-of-type {\n",
       "        vertical-align: middle;\n",
       "    }\n",
       "\n",
       "    .dataframe tbody tr th {\n",
       "        vertical-align: top;\n",
       "    }\n",
       "\n",
       "    .dataframe thead th {\n",
       "        text-align: right;\n",
       "    }\n",
       "</style>\n",
       "<table border=\"1\" class=\"dataframe\">\n",
       "  <thead>\n",
       "    <tr style=\"text-align: right;\">\n",
       "      <th></th>\n",
       "      <th>count</th>\n",
       "      <th>mean</th>\n",
       "      <th>std</th>\n",
       "      <th>min</th>\n",
       "      <th>25%</th>\n",
       "      <th>50%</th>\n",
       "      <th>75%</th>\n",
       "      <th>max</th>\n",
       "    </tr>\n",
       "  </thead>\n",
       "  <tbody>\n",
       "    <tr>\n",
       "      <th>Month</th>\n",
       "      <td>6549929.0</td>\n",
       "      <td>6.699383e+00</td>\n",
       "      <td>3.451154</td>\n",
       "      <td>0.0</td>\n",
       "      <td>4.0</td>\n",
       "      <td>7.0</td>\n",
       "      <td>10.0</td>\n",
       "      <td>12.0</td>\n",
       "    </tr>\n",
       "    <tr>\n",
       "      <th>Weekday</th>\n",
       "      <td>6549929.0</td>\n",
       "      <td>4.002606e+00</td>\n",
       "      <td>1.931725</td>\n",
       "      <td>0.0</td>\n",
       "      <td>2.0</td>\n",
       "      <td>4.0</td>\n",
       "      <td>6.0</td>\n",
       "      <td>7.0</td>\n",
       "    </tr>\n",
       "    <tr>\n",
       "      <th>Hour</th>\n",
       "      <td>6549929.0</td>\n",
       "      <td>1.355844e+01</td>\n",
       "      <td>5.288638</td>\n",
       "      <td>0.0</td>\n",
       "      <td>10.0</td>\n",
       "      <td>14.0</td>\n",
       "      <td>17.0</td>\n",
       "      <td>23.0</td>\n",
       "    </tr>\n",
       "    <tr>\n",
       "      <th>Severity</th>\n",
       "      <td>6549929.0</td>\n",
       "      <td>1.983477e+00</td>\n",
       "      <td>0.127475</td>\n",
       "      <td>1.0</td>\n",
       "      <td>2.0</td>\n",
       "      <td>2.0</td>\n",
       "      <td>2.0</td>\n",
       "      <td>2.0</td>\n",
       "    </tr>\n",
       "    <tr>\n",
       "      <th>Num_vehicles</th>\n",
       "      <td>6549929.0</td>\n",
       "      <td>2.054547e+00</td>\n",
       "      <td>1.299170</td>\n",
       "      <td>0.0</td>\n",
       "      <td>2.0</td>\n",
       "      <td>2.0</td>\n",
       "      <td>2.0</td>\n",
       "      <td>77.0</td>\n",
       "    </tr>\n",
       "    <tr>\n",
       "      <th>Vehicle_year</th>\n",
       "      <td>6549929.0</td>\n",
       "      <td>2.001152e+03</td>\n",
       "      <td>7.688022</td>\n",
       "      <td>1901.0</td>\n",
       "      <td>1996.0</td>\n",
       "      <td>2001.0</td>\n",
       "      <td>2006.0</td>\n",
       "      <td>2019.0</td>\n",
       "    </tr>\n",
       "    <tr>\n",
       "      <th>Person_age</th>\n",
       "      <td>6549929.0</td>\n",
       "      <td>3.533600e+01</td>\n",
       "      <td>19.813944</td>\n",
       "      <td>0.0</td>\n",
       "      <td>21.0</td>\n",
       "      <td>33.0</td>\n",
       "      <td>49.0</td>\n",
       "      <td>99.0</td>\n",
       "    </tr>\n",
       "    <tr>\n",
       "      <th>Collision_case</th>\n",
       "      <td>6549929.0</td>\n",
       "      <td>1.460722e+06</td>\n",
       "      <td>761217.311964</td>\n",
       "      <td>151316.0</td>\n",
       "      <td>798775.0</td>\n",
       "      <td>1458941.0</td>\n",
       "      <td>2120909.0</td>\n",
       "      <td>2786266.0</td>\n",
       "    </tr>\n",
       "  </tbody>\n",
       "</table>\n",
       "</div>\n",
       "    <div class=\"colab-df-buttons\">\n",
       "\n",
       "  <div class=\"colab-df-container\">\n",
       "    <button class=\"colab-df-convert\" onclick=\"convertToInteractive('df-b241e4fa-598b-48e3-a51f-a2044e6417a5')\"\n",
       "            title=\"Convert this dataframe to an interactive table.\"\n",
       "            style=\"display:none;\">\n",
       "\n",
       "  <svg xmlns=\"http://www.w3.org/2000/svg\" height=\"24px\" viewBox=\"0 -960 960 960\">\n",
       "    <path d=\"M120-120v-720h720v720H120Zm60-500h600v-160H180v160Zm220 220h160v-160H400v160Zm0 220h160v-160H400v160ZM180-400h160v-160H180v160Zm440 0h160v-160H620v160ZM180-180h160v-160H180v160Zm440 0h160v-160H620v160Z\"/>\n",
       "  </svg>\n",
       "    </button>\n",
       "\n",
       "  <style>\n",
       "    .colab-df-container {\n",
       "      display:flex;\n",
       "      gap: 12px;\n",
       "    }\n",
       "\n",
       "    .colab-df-convert {\n",
       "      background-color: #E8F0FE;\n",
       "      border: none;\n",
       "      border-radius: 50%;\n",
       "      cursor: pointer;\n",
       "      display: none;\n",
       "      fill: #1967D2;\n",
       "      height: 32px;\n",
       "      padding: 0 0 0 0;\n",
       "      width: 32px;\n",
       "    }\n",
       "\n",
       "    .colab-df-convert:hover {\n",
       "      background-color: #E2EBFA;\n",
       "      box-shadow: 0px 1px 2px rgba(60, 64, 67, 0.3), 0px 1px 3px 1px rgba(60, 64, 67, 0.15);\n",
       "      fill: #174EA6;\n",
       "    }\n",
       "\n",
       "    .colab-df-buttons div {\n",
       "      margin-bottom: 4px;\n",
       "    }\n",
       "\n",
       "    [theme=dark] .colab-df-convert {\n",
       "      background-color: #3B4455;\n",
       "      fill: #D2E3FC;\n",
       "    }\n",
       "\n",
       "    [theme=dark] .colab-df-convert:hover {\n",
       "      background-color: #434B5C;\n",
       "      box-shadow: 0px 1px 3px 1px rgba(0, 0, 0, 0.15);\n",
       "      filter: drop-shadow(0px 1px 2px rgba(0, 0, 0, 0.3));\n",
       "      fill: #FFFFFF;\n",
       "    }\n",
       "  </style>\n",
       "\n",
       "    <script>\n",
       "      const buttonEl =\n",
       "        document.querySelector('#df-b241e4fa-598b-48e3-a51f-a2044e6417a5 button.colab-df-convert');\n",
       "      buttonEl.style.display =\n",
       "        google.colab.kernel.accessAllowed ? 'block' : 'none';\n",
       "\n",
       "      async function convertToInteractive(key) {\n",
       "        const element = document.querySelector('#df-b241e4fa-598b-48e3-a51f-a2044e6417a5');\n",
       "        const dataTable =\n",
       "          await google.colab.kernel.invokeFunction('convertToInteractive',\n",
       "                                                    [key], {});\n",
       "        if (!dataTable) return;\n",
       "\n",
       "        const docLinkHtml = 'Like what you see? Visit the ' +\n",
       "          '<a target=\"_blank\" href=https://colab.research.google.com/notebooks/data_table.ipynb>data table notebook</a>'\n",
       "          + ' to learn more about interactive tables.';\n",
       "        element.innerHTML = '';\n",
       "        dataTable['output_type'] = 'display_data';\n",
       "        await google.colab.output.renderOutput(dataTable, element);\n",
       "        const docLink = document.createElement('div');\n",
       "        docLink.innerHTML = docLinkHtml;\n",
       "        element.appendChild(docLink);\n",
       "      }\n",
       "    </script>\n",
       "  </div>\n",
       "\n",
       "\n",
       "<div id=\"df-486ada9b-f476-4df5-ad8a-579bda031079\">\n",
       "  <button class=\"colab-df-quickchart\" onclick=\"quickchart('df-486ada9b-f476-4df5-ad8a-579bda031079')\"\n",
       "            title=\"Suggest charts\"\n",
       "            style=\"display:none;\">\n",
       "\n",
       "<svg xmlns=\"http://www.w3.org/2000/svg\" height=\"24px\"viewBox=\"0 0 24 24\"\n",
       "     width=\"24px\">\n",
       "    <g>\n",
       "        <path d=\"M19 3H5c-1.1 0-2 .9-2 2v14c0 1.1.9 2 2 2h14c1.1 0 2-.9 2-2V5c0-1.1-.9-2-2-2zM9 17H7v-7h2v7zm4 0h-2V7h2v10zm4 0h-2v-4h2v4z\"/>\n",
       "    </g>\n",
       "</svg>\n",
       "  </button>\n",
       "\n",
       "<style>\n",
       "  .colab-df-quickchart {\n",
       "      --bg-color: #E8F0FE;\n",
       "      --fill-color: #1967D2;\n",
       "      --hover-bg-color: #E2EBFA;\n",
       "      --hover-fill-color: #174EA6;\n",
       "      --disabled-fill-color: #AAA;\n",
       "      --disabled-bg-color: #DDD;\n",
       "  }\n",
       "\n",
       "  [theme=dark] .colab-df-quickchart {\n",
       "      --bg-color: #3B4455;\n",
       "      --fill-color: #D2E3FC;\n",
       "      --hover-bg-color: #434B5C;\n",
       "      --hover-fill-color: #FFFFFF;\n",
       "      --disabled-bg-color: #3B4455;\n",
       "      --disabled-fill-color: #666;\n",
       "  }\n",
       "\n",
       "  .colab-df-quickchart {\n",
       "    background-color: var(--bg-color);\n",
       "    border: none;\n",
       "    border-radius: 50%;\n",
       "    cursor: pointer;\n",
       "    display: none;\n",
       "    fill: var(--fill-color);\n",
       "    height: 32px;\n",
       "    padding: 0;\n",
       "    width: 32px;\n",
       "  }\n",
       "\n",
       "  .colab-df-quickchart:hover {\n",
       "    background-color: var(--hover-bg-color);\n",
       "    box-shadow: 0 1px 2px rgba(60, 64, 67, 0.3), 0 1px 3px 1px rgba(60, 64, 67, 0.15);\n",
       "    fill: var(--button-hover-fill-color);\n",
       "  }\n",
       "\n",
       "  .colab-df-quickchart-complete:disabled,\n",
       "  .colab-df-quickchart-complete:disabled:hover {\n",
       "    background-color: var(--disabled-bg-color);\n",
       "    fill: var(--disabled-fill-color);\n",
       "    box-shadow: none;\n",
       "  }\n",
       "\n",
       "  .colab-df-spinner {\n",
       "    border: 2px solid var(--fill-color);\n",
       "    border-color: transparent;\n",
       "    border-bottom-color: var(--fill-color);\n",
       "    animation:\n",
       "      spin 1s steps(1) infinite;\n",
       "  }\n",
       "\n",
       "  @keyframes spin {\n",
       "    0% {\n",
       "      border-color: transparent;\n",
       "      border-bottom-color: var(--fill-color);\n",
       "      border-left-color: var(--fill-color);\n",
       "    }\n",
       "    20% {\n",
       "      border-color: transparent;\n",
       "      border-left-color: var(--fill-color);\n",
       "      border-top-color: var(--fill-color);\n",
       "    }\n",
       "    30% {\n",
       "      border-color: transparent;\n",
       "      border-left-color: var(--fill-color);\n",
       "      border-top-color: var(--fill-color);\n",
       "      border-right-color: var(--fill-color);\n",
       "    }\n",
       "    40% {\n",
       "      border-color: transparent;\n",
       "      border-right-color: var(--fill-color);\n",
       "      border-top-color: var(--fill-color);\n",
       "    }\n",
       "    60% {\n",
       "      border-color: transparent;\n",
       "      border-right-color: var(--fill-color);\n",
       "    }\n",
       "    80% {\n",
       "      border-color: transparent;\n",
       "      border-right-color: var(--fill-color);\n",
       "      border-bottom-color: var(--fill-color);\n",
       "    }\n",
       "    90% {\n",
       "      border-color: transparent;\n",
       "      border-bottom-color: var(--fill-color);\n",
       "    }\n",
       "  }\n",
       "</style>\n",
       "\n",
       "  <script>\n",
       "    async function quickchart(key) {\n",
       "      const quickchartButtonEl =\n",
       "        document.querySelector('#' + key + ' button');\n",
       "      quickchartButtonEl.disabled = true;  // To prevent multiple clicks.\n",
       "      quickchartButtonEl.classList.add('colab-df-spinner');\n",
       "      try {\n",
       "        const charts = await google.colab.kernel.invokeFunction(\n",
       "            'suggestCharts', [key], {});\n",
       "      } catch (error) {\n",
       "        console.error('Error during call to suggestCharts:', error);\n",
       "      }\n",
       "      quickchartButtonEl.classList.remove('colab-df-spinner');\n",
       "      quickchartButtonEl.classList.add('colab-df-quickchart-complete');\n",
       "    }\n",
       "    (() => {\n",
       "      let quickchartButtonEl =\n",
       "        document.querySelector('#df-486ada9b-f476-4df5-ad8a-579bda031079 button');\n",
       "      quickchartButtonEl.style.display =\n",
       "        google.colab.kernel.accessAllowed ? 'block' : 'none';\n",
       "    })();\n",
       "  </script>\n",
       "</div>\n",
       "    </div>\n",
       "  </div>\n"
      ],
      "text/plain": [
       "                    count          mean            std       min       25%  \\\n",
       "Month           6549929.0  6.699383e+00       3.451154       0.0       4.0   \n",
       "Weekday         6549929.0  4.002606e+00       1.931725       0.0       2.0   \n",
       "Hour            6549929.0  1.355844e+01       5.288638       0.0      10.0   \n",
       "Severity        6549929.0  1.983477e+00       0.127475       1.0       2.0   \n",
       "Num_vehicles    6549929.0  2.054547e+00       1.299170       0.0       2.0   \n",
       "Vehicle_year    6549929.0  2.001152e+03       7.688022    1901.0    1996.0   \n",
       "Person_age      6549929.0  3.533600e+01      19.813944       0.0      21.0   \n",
       "Collision_case  6549929.0  1.460722e+06  761217.311964  151316.0  798775.0   \n",
       "\n",
       "                      50%        75%        max  \n",
       "Month                 7.0       10.0       12.0  \n",
       "Weekday               4.0        6.0        7.0  \n",
       "Hour                 14.0       17.0       23.0  \n",
       "Severity              2.0        2.0        2.0  \n",
       "Num_vehicles          2.0        2.0       77.0  \n",
       "Vehicle_year       2001.0     2006.0     2019.0  \n",
       "Person_age           33.0       49.0       99.0  \n",
       "Collision_case  1458941.0  2120909.0  2786266.0  "
      ]
     },
     "execution_count": 64,
     "metadata": {},
     "output_type": "execute_result"
    }
   ],
   "source": [
    "#Summary Statistics\n",
    "data.describe().T"
   ]
  },
  {
   "cell_type": "code",
   "execution_count": null,
   "metadata": {
    "colab": {
     "base_uri": "https://localhost:8080/"
    },
    "id": "WNQiEhrsqsjr",
    "outputId": "fefd6016-96df-435c-b926-3df0991e0978"
   },
   "outputs": [
    {
     "data": {
      "text/plain": [
       "(6492680, 23)"
      ]
     },
     "execution_count": 65,
     "metadata": {},
     "output_type": "execute_result"
    }
   ],
   "source": [
    "data_clean = data.dropna()\n",
    "data_clean.shape"
   ]
  },
  {
   "cell_type": "markdown",
   "metadata": {
    "id": "rzIPvSh7uUxE"
   },
   "source": [
    "## Correlation matrix"
   ]
  },
  {
   "cell_type": "code",
   "execution_count": null,
   "metadata": {
    "colab": {
     "base_uri": "https://localhost:8080/",
     "height": 882
    },
    "id": "ktq5PtCSuU95",
    "outputId": "8adcfdd4-5e8b-4ece-b22f-feaa7bc67cd9"
   },
   "outputs": [
    {
     "name": "stderr",
     "output_type": "stream",
     "text": [
      "<ipython-input-66-8218755c7c4e>:1: FutureWarning: The default value of numeric_only in DataFrame.corr is deprecated. In a future version, it will default to False. Select only valid columns or specify the value of numeric_only to silence this warning.\n",
      "  correlation_matrix = data_clean.corr()\n"
     ]
    },
    {
     "data": {
      "image/png": "[encoded data removed]",
      "text/plain": [
       "<Figure size 1200x1000 with 2 Axes>"
      ]
     },
     "metadata": {},
     "output_type": "display_data"
    }
   ],
   "source": [
    "\n",
    "correlation_matrix = data_clean.corr()\n",
    "plt.figure(figsize=(12, 10))\n",
    "sns.heatmap(correlation_matrix, annot=True, fmt='.2f', cmap='coolwarm', square=True)\n",
    "plt.title('Correlation Matrix of Data_Clean Dataset')\n",
    "plt.show()"
   ]
  },
  {
   "cell_type": "markdown",
   "metadata": {
    "id": "CHOXTMkcs5o3"
   },
   "source": [
    "#### Number of Unique Cases"
   ]
  },
  {
   "cell_type": "code",
   "execution_count": null,
   "metadata": {
    "colab": {
     "base_uri": "https://localhost:8080/"
    },
    "id": "GbnvRAsBs3oU",
    "outputId": "ac0bbfb7-bf83-410e-ab7b-412490d17227"
   },
   "outputs": [
    {
     "data": {
      "text/plain": [
       "2560782"
      ]
     },
     "execution_count": 67,
     "metadata": {},
     "output_type": "execute_result"
    }
   ],
   "source": [
    "unique_collision_cases_sum = data_clean['Collision_case'].nunique()\n",
    "unique_collision_cases_sum"
   ]
  },
  {
   "cell_type": "markdown",
   "metadata": {
    "id": "3e_jof8JLDGB"
   },
   "source": [
    "####  Year with maximum number of unique cases (Sorted in descending order)"
   ]
  },
  {
   "cell_type": "code",
   "execution_count": null,
   "metadata": {
    "colab": {
     "base_uri": "https://localhost:8080/"
    },
    "id": "gylL9CiZI_p0",
    "outputId": "ec6a0b37-6b54-40df-95ee-f556033e6090"
   },
   "outputs": [
    {
     "data": {
      "text/plain": [
       "Year\n",
       "2002    151141\n",
       "2000    150056\n",
       "2003    147919\n",
       "2001    146380\n",
       "2005    143331\n",
       "2004    142504\n",
       "2006    140337\n",
       "2007    136607\n",
       "2008    125548\n",
       "2010    122219\n",
       "2012    121614\n",
       "2009    121272\n",
       "2011    121025\n",
       "2013    119127\n",
       "2015    117803\n",
       "2016    116538\n",
       "2014    113344\n",
       "2017    111519\n",
       "2018    109584\n",
       "2019    102914\n",
       "Name: Collision_case, dtype: int64"
      ]
     },
     "execution_count": 68,
     "metadata": {},
     "output_type": "execute_result"
    }
   ],
   "source": [
    "unique_cases_per_year = data_clean.groupby('Year')['Collision_case'].nunique()\n",
    "unique_cases_per_year.sort_values(ascending=False)"
   ]
  },
  {
   "cell_type": "markdown",
   "metadata": {
    "id": "cHMrWzVqLZ_C"
   },
   "source": [
    "####  Hour with maximum number of unique cases (Sorted in descending order)"
   ]
  },
  {
   "cell_type": "code",
   "execution_count": null,
   "metadata": {
    "colab": {
     "base_uri": "https://localhost:8080/"
    },
    "id": "T60gusbFI_wi",
    "outputId": "fca60ce4-b257-4c26-9b9c-6d9ea1fb21cf"
   },
   "outputs": [
    {
     "data": {
      "text/plain": [
       "Hour\n",
       "16.0    216507\n",
       "17.0    208441\n",
       "15.0    203258\n",
       "14.0    165569\n",
       "18.0    156661\n",
       "12.0    154995\n",
       "13.0    153310\n",
       "8.0     140341\n",
       "11.0    130619\n",
       "19.0    118069\n",
       "10.0    112298\n",
       "9.0     107904\n",
       "7.0     106143\n",
       "20.0     93194\n",
       "21.0     87364\n",
       "22.0     71649\n",
       "0.0      67204\n",
       "6.0      59781\n",
       "23.0     56553\n",
       "2.0      35483\n",
       "1.0      34918\n",
       "3.0      30846\n",
       "5.0      27487\n",
       "4.0      22188\n",
       "Name: Collision_case, dtype: int64"
      ]
     },
     "execution_count": 69,
     "metadata": {},
     "output_type": "execute_result"
    }
   ],
   "source": [
    "unique_cases_per_hour = data_clean.groupby('Hour')['Collision_case'].nunique()\n",
    "unique_cases_per_hour.sort_values(ascending=False)"
   ]
  },
  {
   "cell_type": "markdown",
   "metadata": {
    "id": "o73om2euXVI4"
   },
   "source": [
    "Month with maximum number of unique cases (Sorted in descending order)"
   ]
  },
  {
   "cell_type": "code",
   "execution_count": null,
   "metadata": {
    "colab": {
     "base_uri": "https://localhost:8080/"
    },
    "id": "wJfdWLIQXVY7",
    "outputId": "3365c49b-405b-494b-afec-c5db9a29a8b5"
   },
   "outputs": [
    {
     "data": {
      "text/plain": [
       "Month\n",
       "8.0     230469\n",
       "7.0     229305\n",
       "12.0    229233\n",
       "10.0    227656\n",
       "11.0    226297\n",
       "6.0     226175\n",
       "9.0     224721\n",
       "1.0     222168\n",
       "5.0     203701\n",
       "2.0     188920\n",
       "3.0     180834\n",
       "4.0     171209\n",
       "0.0         94\n",
       "Name: Collision_case, dtype: int64"
      ]
     },
     "execution_count": 70,
     "metadata": {},
     "output_type": "execute_result"
    }
   ],
   "source": [
    "unique_cases_per_month = data_clean.groupby('Month')['Collision_case'].nunique()\n",
    "unique_cases_per_month.sort_values(ascending=False)"
   ]
  },
  {
   "cell_type": "markdown",
   "metadata": {
    "id": "S2QbF_jfXxTi"
   },
   "source": [
    "Weekday with maximum number of unique cases (Sorted in descending order)"
   ]
  },
  {
   "cell_type": "code",
   "execution_count": null,
   "metadata": {
    "colab": {
     "base_uri": "https://localhost:8080/"
    },
    "id": "xuShIew2XxiB",
    "outputId": "ac1049e3-6c78-4bc2-e1b2-9c7f97c8f9f2"
   },
   "outputs": [
    {
     "data": {
      "text/plain": [
       "Weekday\n",
       "5.0    431478\n",
       "4.0    392243\n",
       "3.0    373651\n",
       "2.0    370748\n",
       "6.0    351332\n",
       "1.0    350362\n",
       "7.0    290767\n",
       "0.0       201\n",
       "Name: Collision_case, dtype: int64"
      ]
     },
     "execution_count": 71,
     "metadata": {},
     "output_type": "execute_result"
    }
   ],
   "source": [
    "unique_cases_per_weekday = data_clean.groupby('Weekday')['Collision_case'].nunique()\n",
    "unique_cases_per_weekday.sort_values(ascending=False)"
   ]
  },
  {
   "cell_type": "code",
   "execution_count": null,
   "metadata": {
    "colab": {
     "base_uri": "https://localhost:8080/"
    },
    "id": "gJHzqWRTMzNb",
    "outputId": "f87de693-995c-4aa9-893d-508d0689aa7b"
   },
   "outputs": [
    {
     "data": {
      "text/plain": [
       "Collision_configuration\n",
       "21    625006\n",
       "35    344135\n",
       "6     338104\n",
       "36    184885\n",
       "33    156030\n",
       "4     150438\n",
       "50    136063\n",
       "2     128656\n",
       "3     110396\n",
       "0      79816\n",
       "22     72884\n",
       "31     72489\n",
       "1      32307\n",
       "41     31731\n",
       "23     26813\n",
       "24     21457\n",
       "32     19178\n",
       "34     13691\n",
       "5      10330\n",
       "25      6373\n",
       "Name: Collision_case, dtype: int64"
      ]
     },
     "execution_count": 72,
     "metadata": {},
     "output_type": "execute_result"
    }
   ],
   "source": [
    "unique_cases_per_for_collisionconfiguration = data_clean.groupby('Collision_configuration')['Collision_case'].nunique()\n",
    "unique_cases_per_for_collisionconfiguration.sort_values(ascending=False)"
   ]
  },
  {
   "cell_type": "code",
   "execution_count": null,
   "metadata": {
    "colab": {
     "base_uri": "https://localhost:8080/"
    },
    "id": "LQQdQe7zfIcD",
    "outputId": "39677aa6-471f-469b-bbc0-6f608b9ac9c3"
   },
   "outputs": [
    {
     "data": {
      "text/plain": [
       "2.0    6385227\n",
       "1.0     107453\n",
       "Name: Severity, dtype: int64"
      ]
     },
     "execution_count": 73,
     "metadata": {},
     "output_type": "execute_result"
    }
   ],
   "source": [
    "#Checking the Severity level\n",
    "severity_counts = data_clean['Severity'].value_counts()\n",
    "severity_counts"
   ]
  },
  {
   "cell_type": "code",
   "execution_count": null,
   "metadata": {
    "colab": {
     "base_uri": "https://localhost:8080/"
    },
    "id": "_8xT39erLnqO",
    "outputId": "57c0ea1f-9630-4e6b-f75f-5eb19300be4f"
   },
   "outputs": [
    {
     "data": {
      "text/plain": [
       "Year                       0\n",
       "Month                      0\n",
       "Weekday                    0\n",
       "Hour                       0\n",
       "Severity                   0\n",
       "Num_vehicles               0\n",
       "Collision_configuration    0\n",
       "Road_configuration         0\n",
       "Weather_condition          0\n",
       "Road_surface               0\n",
       "Road_alignment             0\n",
       "Traffic_control            0\n",
       "vehicle_id                 0\n",
       "Vehicle_type               0\n",
       "Vehicle_year               0\n",
       "Person_id                  0\n",
       "Person_sex                 0\n",
       "Person_age                 0\n",
       "Person_position            0\n",
       "Person_injury_severity     0\n",
       "Safety_device_used         0\n",
       "Road_user_type             0\n",
       "Collision_case             0\n",
       "dtype: int64"
      ]
     },
     "execution_count": 74,
     "metadata": {},
     "output_type": "execute_result"
    }
   ],
   "source": [
    "data_clean.isnull().sum()"
   ]
  },
  {
   "cell_type": "code",
   "execution_count": null,
   "metadata": {
    "colab": {
     "base_uri": "https://localhost:8080/"
    },
    "id": "ceAk_U9NrXXA",
    "outputId": "85bfec0f-c811-41f4-c97a-107e48ed82f0"
   },
   "outputs": [
    {
     "data": {
      "text/plain": [
       "(6492680, 23)"
      ]
     },
     "execution_count": 75,
     "metadata": {},
     "output_type": "execute_result"
    }
   ],
   "source": [
    "data_clean.shape"
   ]
  },
  {
   "cell_type": "markdown",
   "metadata": {
    "id": "Khje8StnYUwE"
   },
   "source": [
    "Percentage of data dropped"
   ]
  },
  {
   "cell_type": "code",
   "execution_count": null,
   "metadata": {
    "colab": {
     "base_uri": "https://localhost:8080/"
    },
    "id": "4uof5Gf5VJsG",
    "outputId": "4e828483-754b-41ee-e327-ddc69a565a65"
   },
   "outputs": [
    {
     "data": {
      "text/plain": [
       "6.082910326384116"
      ]
     },
     "execution_count": 76,
     "metadata": {},
     "output_type": "execute_result"
    }
   ],
   "source": [
    "(1 - (6492680/6913204))*100\n"
   ]
  },
  {
   "cell_type": "code",
   "execution_count": null,
   "metadata": {
    "colab": {
     "base_uri": "https://localhost:8080/",
     "height": 443
    },
    "id": "5bHxEu5twVOI",
    "outputId": "19e69e36-591f-4d66-85f7-6b67656c605b"
   },
   "outputs": [
    {
     "data": {
      "text/html": [
       "\n",
       "  <div id=\"df-594ea043-3846-47e6-b08d-8f1b43203870\" class=\"colab-df-container\">\n",
       "    <div>\n",
       "<style scoped>\n",
       "    .dataframe tbody tr th:only-of-type {\n",
       "        vertical-align: middle;\n",
       "    }\n",
       "\n",
       "    .dataframe tbody tr th {\n",
       "        vertical-align: top;\n",
       "    }\n",
       "\n",
       "    .dataframe thead th {\n",
       "        text-align: right;\n",
       "    }\n",
       "</style>\n",
       "<table border=\"1\" class=\"dataframe\">\n",
       "  <thead>\n",
       "    <tr style=\"text-align: right;\">\n",
       "      <th></th>\n",
       "      <th>Year</th>\n",
       "      <th>Month</th>\n",
       "      <th>Weekday</th>\n",
       "      <th>Hour</th>\n",
       "      <th>Severity</th>\n",
       "      <th>Num_vehicles</th>\n",
       "      <th>Collision_configuration</th>\n",
       "      <th>Road_configuration</th>\n",
       "      <th>Weather_condition</th>\n",
       "      <th>Road_surface</th>\n",
       "      <th>...</th>\n",
       "      <th>Vehicle_type</th>\n",
       "      <th>Vehicle_year</th>\n",
       "      <th>Person_id</th>\n",
       "      <th>Person_sex</th>\n",
       "      <th>Person_age</th>\n",
       "      <th>Person_position</th>\n",
       "      <th>Person_injury_severity</th>\n",
       "      <th>Safety_device_used</th>\n",
       "      <th>Road_user_type</th>\n",
       "      <th>Collision_case</th>\n",
       "    </tr>\n",
       "  </thead>\n",
       "  <tbody>\n",
       "    <tr>\n",
       "      <th>3</th>\n",
       "      <td>2000</td>\n",
       "      <td>1.0</td>\n",
       "      <td>1.0</td>\n",
       "      <td>17.0</td>\n",
       "      <td>2.0</td>\n",
       "      <td>1.0</td>\n",
       "      <td>50</td>\n",
       "      <td>0</td>\n",
       "      <td>5</td>\n",
       "      <td>2</td>\n",
       "      <td>...</td>\n",
       "      <td>50</td>\n",
       "      <td>2001.0</td>\n",
       "      <td>1</td>\n",
       "      <td>F</td>\n",
       "      <td>16.0</td>\n",
       "      <td>99</td>\n",
       "      <td>2</td>\n",
       "      <td>50</td>\n",
       "      <td>3</td>\n",
       "      <td>151441.0</td>\n",
       "    </tr>\n",
       "    <tr>\n",
       "      <th>4</th>\n",
       "      <td>2000</td>\n",
       "      <td>1.0</td>\n",
       "      <td>1.0</td>\n",
       "      <td>17.0</td>\n",
       "      <td>2.0</td>\n",
       "      <td>1.0</td>\n",
       "      <td>50</td>\n",
       "      <td>0</td>\n",
       "      <td>5</td>\n",
       "      <td>2</td>\n",
       "      <td>...</td>\n",
       "      <td>50</td>\n",
       "      <td>2001.0</td>\n",
       "      <td>2</td>\n",
       "      <td>F</td>\n",
       "      <td>16.0</td>\n",
       "      <td>99</td>\n",
       "      <td>2</td>\n",
       "      <td>50</td>\n",
       "      <td>3</td>\n",
       "      <td>151441.0</td>\n",
       "    </tr>\n",
       "    <tr>\n",
       "      <th>6</th>\n",
       "      <td>2000</td>\n",
       "      <td>1.0</td>\n",
       "      <td>1.0</td>\n",
       "      <td>10.0</td>\n",
       "      <td>2.0</td>\n",
       "      <td>1.0</td>\n",
       "      <td>2</td>\n",
       "      <td>0</td>\n",
       "      <td>4</td>\n",
       "      <td>3</td>\n",
       "      <td>...</td>\n",
       "      <td>50</td>\n",
       "      <td>2001.0</td>\n",
       "      <td>1</td>\n",
       "      <td>F</td>\n",
       "      <td>31.0</td>\n",
       "      <td>99</td>\n",
       "      <td>2</td>\n",
       "      <td>50</td>\n",
       "      <td>3</td>\n",
       "      <td>151460.0</td>\n",
       "    </tr>\n",
       "    <tr>\n",
       "      <th>8</th>\n",
       "      <td>2000</td>\n",
       "      <td>1.0</td>\n",
       "      <td>1.0</td>\n",
       "      <td>10.0</td>\n",
       "      <td>2.0</td>\n",
       "      <td>1.0</td>\n",
       "      <td>2</td>\n",
       "      <td>0</td>\n",
       "      <td>4</td>\n",
       "      <td>3</td>\n",
       "      <td>...</td>\n",
       "      <td>50</td>\n",
       "      <td>2001.0</td>\n",
       "      <td>1</td>\n",
       "      <td>M</td>\n",
       "      <td>61.0</td>\n",
       "      <td>99</td>\n",
       "      <td>2</td>\n",
       "      <td>50</td>\n",
       "      <td>3</td>\n",
       "      <td>151461.0</td>\n",
       "    </tr>\n",
       "    <tr>\n",
       "      <th>10</th>\n",
       "      <td>2000</td>\n",
       "      <td>1.0</td>\n",
       "      <td>1.0</td>\n",
       "      <td>8.0</td>\n",
       "      <td>2.0</td>\n",
       "      <td>3.0</td>\n",
       "      <td>21</td>\n",
       "      <td>0</td>\n",
       "      <td>1</td>\n",
       "      <td>2</td>\n",
       "      <td>...</td>\n",
       "      <td>50</td>\n",
       "      <td>2000.0</td>\n",
       "      <td>1</td>\n",
       "      <td>N</td>\n",
       "      <td>33.0</td>\n",
       "      <td>11</td>\n",
       "      <td>1</td>\n",
       "      <td>50</td>\n",
       "      <td>0</td>\n",
       "      <td>151509.0</td>\n",
       "    </tr>\n",
       "    <tr>\n",
       "      <th>...</th>\n",
       "      <td>...</td>\n",
       "      <td>...</td>\n",
       "      <td>...</td>\n",
       "      <td>...</td>\n",
       "      <td>...</td>\n",
       "      <td>...</td>\n",
       "      <td>...</td>\n",
       "      <td>...</td>\n",
       "      <td>...</td>\n",
       "      <td>...</td>\n",
       "      <td>...</td>\n",
       "      <td>...</td>\n",
       "      <td>...</td>\n",
       "      <td>...</td>\n",
       "      <td>...</td>\n",
       "      <td>...</td>\n",
       "      <td>...</td>\n",
       "      <td>...</td>\n",
       "      <td>...</td>\n",
       "      <td>...</td>\n",
       "      <td>...</td>\n",
       "    </tr>\n",
       "    <tr>\n",
       "      <th>6913198</th>\n",
       "      <td>2019</td>\n",
       "      <td>12.0</td>\n",
       "      <td>7.0</td>\n",
       "      <td>23.0</td>\n",
       "      <td>2.0</td>\n",
       "      <td>2.0</td>\n",
       "      <td>35</td>\n",
       "      <td>2</td>\n",
       "      <td>2</td>\n",
       "      <td>2</td>\n",
       "      <td>...</td>\n",
       "      <td>1</td>\n",
       "      <td>2016.0</td>\n",
       "      <td>1</td>\n",
       "      <td>F</td>\n",
       "      <td>39.0</td>\n",
       "      <td>11</td>\n",
       "      <td>1</td>\n",
       "      <td>2</td>\n",
       "      <td>1</td>\n",
       "      <td>2785585.0</td>\n",
       "    </tr>\n",
       "    <tr>\n",
       "      <th>6913199</th>\n",
       "      <td>2019</td>\n",
       "      <td>12.0</td>\n",
       "      <td>7.0</td>\n",
       "      <td>23.0</td>\n",
       "      <td>2.0</td>\n",
       "      <td>2.0</td>\n",
       "      <td>35</td>\n",
       "      <td>2</td>\n",
       "      <td>2</td>\n",
       "      <td>2</td>\n",
       "      <td>...</td>\n",
       "      <td>1</td>\n",
       "      <td>2016.0</td>\n",
       "      <td>2</td>\n",
       "      <td>M</td>\n",
       "      <td>38.0</td>\n",
       "      <td>12</td>\n",
       "      <td>2</td>\n",
       "      <td>2</td>\n",
       "      <td>2</td>\n",
       "      <td>2785585.0</td>\n",
       "    </tr>\n",
       "    <tr>\n",
       "      <th>6913200</th>\n",
       "      <td>2019</td>\n",
       "      <td>12.0</td>\n",
       "      <td>7.0</td>\n",
       "      <td>23.0</td>\n",
       "      <td>2.0</td>\n",
       "      <td>2.0</td>\n",
       "      <td>35</td>\n",
       "      <td>2</td>\n",
       "      <td>2</td>\n",
       "      <td>2</td>\n",
       "      <td>...</td>\n",
       "      <td>1</td>\n",
       "      <td>2011.0</td>\n",
       "      <td>1</td>\n",
       "      <td>M</td>\n",
       "      <td>30.0</td>\n",
       "      <td>11</td>\n",
       "      <td>2</td>\n",
       "      <td>2</td>\n",
       "      <td>1</td>\n",
       "      <td>2785585.0</td>\n",
       "    </tr>\n",
       "    <tr>\n",
       "      <th>6913202</th>\n",
       "      <td>2019</td>\n",
       "      <td>0.0</td>\n",
       "      <td>0.0</td>\n",
       "      <td>17.0</td>\n",
       "      <td>1.0</td>\n",
       "      <td>1.0</td>\n",
       "      <td>1</td>\n",
       "      <td>50</td>\n",
       "      <td>NaN</td>\n",
       "      <td>5</td>\n",
       "      <td>...</td>\n",
       "      <td>1</td>\n",
       "      <td>2007.0</td>\n",
       "      <td>1</td>\n",
       "      <td>M</td>\n",
       "      <td>50.0</td>\n",
       "      <td>11</td>\n",
       "      <td>1</td>\n",
       "      <td>1</td>\n",
       "      <td>1</td>\n",
       "      <td>2786255.0</td>\n",
       "    </tr>\n",
       "    <tr>\n",
       "      <th>6913203</th>\n",
       "      <td>2019</td>\n",
       "      <td>0.0</td>\n",
       "      <td>0.0</td>\n",
       "      <td>17.0</td>\n",
       "      <td>1.0</td>\n",
       "      <td>1.0</td>\n",
       "      <td>1</td>\n",
       "      <td>50</td>\n",
       "      <td>NaN</td>\n",
       "      <td>5</td>\n",
       "      <td>...</td>\n",
       "      <td>50</td>\n",
       "      <td>2001.0</td>\n",
       "      <td>1</td>\n",
       "      <td>F</td>\n",
       "      <td>76.0</td>\n",
       "      <td>99</td>\n",
       "      <td>3</td>\n",
       "      <td>50</td>\n",
       "      <td>3</td>\n",
       "      <td>2786255.0</td>\n",
       "    </tr>\n",
       "  </tbody>\n",
       "</table>\n",
       "<p>6549929 rows × 23 columns</p>\n",
       "</div>\n",
       "    <div class=\"colab-df-buttons\">\n",
       "\n",
       "  <div class=\"colab-df-container\">\n",
       "    <button class=\"colab-df-convert\" onclick=\"convertToInteractive('df-594ea043-3846-47e6-b08d-8f1b43203870')\"\n",
       "            title=\"Convert this dataframe to an interactive table.\"\n",
       "            style=\"display:none;\">\n",
       "\n",
       "  <svg xmlns=\"http://www.w3.org/2000/svg\" height=\"24px\" viewBox=\"0 -960 960 960\">\n",
       "    <path d=\"M120-120v-720h720v720H120Zm60-500h600v-160H180v160Zm220 220h160v-160H400v160Zm0 220h160v-160H400v160ZM180-400h160v-160H180v160Zm440 0h160v-160H620v160ZM180-180h160v-160H180v160Zm440 0h160v-160H620v160Z\"/>\n",
       "  </svg>\n",
       "    </button>\n",
       "\n",
       "  <style>\n",
       "    .colab-df-container {\n",
       "      display:flex;\n",
       "      gap: 12px;\n",
       "    }\n",
       "\n",
       "    .colab-df-convert {\n",
       "      background-color: #E8F0FE;\n",
       "      border: none;\n",
       "      border-radius: 50%;\n",
       "      cursor: pointer;\n",
       "      display: none;\n",
       "      fill: #1967D2;\n",
       "      height: 32px;\n",
       "      padding: 0 0 0 0;\n",
       "      width: 32px;\n",
       "    }\n",
       "\n",
       "    .colab-df-convert:hover {\n",
       "      background-color: #E2EBFA;\n",
       "      box-shadow: 0px 1px 2px rgba(60, 64, 67, 0.3), 0px 1px 3px 1px rgba(60, 64, 67, 0.15);\n",
       "      fill: #174EA6;\n",
       "    }\n",
       "\n",
       "    .colab-df-buttons div {\n",
       "      margin-bottom: 4px;\n",
       "    }\n",
       "\n",
       "    [theme=dark] .colab-df-convert {\n",
       "      background-color: #3B4455;\n",
       "      fill: #D2E3FC;\n",
       "    }\n",
       "\n",
       "    [theme=dark] .colab-df-convert:hover {\n",
       "      background-color: #434B5C;\n",
       "      box-shadow: 0px 1px 3px 1px rgba(0, 0, 0, 0.15);\n",
       "      filter: drop-shadow(0px 1px 2px rgba(0, 0, 0, 0.3));\n",
       "      fill: #FFFFFF;\n",
       "    }\n",
       "  </style>\n",
       "\n",
       "    <script>\n",
       "      const buttonEl =\n",
       "        document.querySelector('#df-594ea043-3846-47e6-b08d-8f1b43203870 button.colab-df-convert');\n",
       "      buttonEl.style.display =\n",
       "        google.colab.kernel.accessAllowed ? 'block' : 'none';\n",
       "\n",
       "      async function convertToInteractive(key) {\n",
       "        const element = document.querySelector('#df-594ea043-3846-47e6-b08d-8f1b43203870');\n",
       "        const dataTable =\n",
       "          await google.colab.kernel.invokeFunction('convertToInteractive',\n",
       "                                                    [key], {});\n",
       "        if (!dataTable) return;\n",
       "\n",
       "        const docLinkHtml = 'Like what you see? Visit the ' +\n",
       "          '<a target=\"_blank\" href=https://colab.research.google.com/notebooks/data_table.ipynb>data table notebook</a>'\n",
       "          + ' to learn more about interactive tables.';\n",
       "        element.innerHTML = '';\n",
       "        dataTable['output_type'] = 'display_data';\n",
       "        await google.colab.output.renderOutput(dataTable, element);\n",
       "        const docLink = document.createElement('div');\n",
       "        docLink.innerHTML = docLinkHtml;\n",
       "        element.appendChild(docLink);\n",
       "      }\n",
       "    </script>\n",
       "  </div>\n",
       "\n",
       "\n",
       "<div id=\"df-d5927efd-f7d5-4a5a-8374-28d0598db559\">\n",
       "  <button class=\"colab-df-quickchart\" onclick=\"quickchart('df-d5927efd-f7d5-4a5a-8374-28d0598db559')\"\n",
       "            title=\"Suggest charts\"\n",
       "            style=\"display:none;\">\n",
       "\n",
       "<svg xmlns=\"http://www.w3.org/2000/svg\" height=\"24px\"viewBox=\"0 0 24 24\"\n",
       "     width=\"24px\">\n",
       "    <g>\n",
       "        <path d=\"M19 3H5c-1.1 0-2 .9-2 2v14c0 1.1.9 2 2 2h14c1.1 0 2-.9 2-2V5c0-1.1-.9-2-2-2zM9 17H7v-7h2v7zm4 0h-2V7h2v10zm4 0h-2v-4h2v4z\"/>\n",
       "    </g>\n",
       "</svg>\n",
       "  </button>\n",
       "\n",
       "<style>\n",
       "  .colab-df-quickchart {\n",
       "      --bg-color: #E8F0FE;\n",
       "      --fill-color: #1967D2;\n",
       "      --hover-bg-color: #E2EBFA;\n",
       "      --hover-fill-color: #174EA6;\n",
       "      --disabled-fill-color: #AAA;\n",
       "      --disabled-bg-color: #DDD;\n",
       "  }\n",
       "\n",
       "  [theme=dark] .colab-df-quickchart {\n",
       "      --bg-color: #3B4455;\n",
       "      --fill-color: #D2E3FC;\n",
       "      --hover-bg-color: #434B5C;\n",
       "      --hover-fill-color: #FFFFFF;\n",
       "      --disabled-bg-color: #3B4455;\n",
       "      --disabled-fill-color: #666;\n",
       "  }\n",
       "\n",
       "  .colab-df-quickchart {\n",
       "    background-color: var(--bg-color);\n",
       "    border: none;\n",
       "    border-radius: 50%;\n",
       "    cursor: pointer;\n",
       "    display: none;\n",
       "    fill: var(--fill-color);\n",
       "    height: 32px;\n",
       "    padding: 0;\n",
       "    width: 32px;\n",
       "  }\n",
       "\n",
       "  .colab-df-quickchart:hover {\n",
       "    background-color: var(--hover-bg-color);\n",
       "    box-shadow: 0 1px 2px rgba(60, 64, 67, 0.3), 0 1px 3px 1px rgba(60, 64, 67, 0.15);\n",
       "    fill: var(--button-hover-fill-color);\n",
       "  }\n",
       "\n",
       "  .colab-df-quickchart-complete:disabled,\n",
       "  .colab-df-quickchart-complete:disabled:hover {\n",
       "    background-color: var(--disabled-bg-color);\n",
       "    fill: var(--disabled-fill-color);\n",
       "    box-shadow: none;\n",
       "  }\n",
       "\n",
       "  .colab-df-spinner {\n",
       "    border: 2px solid var(--fill-color);\n",
       "    border-color: transparent;\n",
       "    border-bottom-color: var(--fill-color);\n",
       "    animation:\n",
       "      spin 1s steps(1) infinite;\n",
       "  }\n",
       "\n",
       "  @keyframes spin {\n",
       "    0% {\n",
       "      border-color: transparent;\n",
       "      border-bottom-color: var(--fill-color);\n",
       "      border-left-color: var(--fill-color);\n",
       "    }\n",
       "    20% {\n",
       "      border-color: transparent;\n",
       "      border-left-color: var(--fill-color);\n",
       "      border-top-color: var(--fill-color);\n",
       "    }\n",
       "    30% {\n",
       "      border-color: transparent;\n",
       "      border-left-color: var(--fill-color);\n",
       "      border-top-color: var(--fill-color);\n",
       "      border-right-color: var(--fill-color);\n",
       "    }\n",
       "    40% {\n",
       "      border-color: transparent;\n",
       "      border-right-color: var(--fill-color);\n",
       "      border-top-color: var(--fill-color);\n",
       "    }\n",
       "    60% {\n",
       "      border-color: transparent;\n",
       "      border-right-color: var(--fill-color);\n",
       "    }\n",
       "    80% {\n",
       "      border-color: transparent;\n",
       "      border-right-color: var(--fill-color);\n",
       "      border-bottom-color: var(--fill-color);\n",
       "    }\n",
       "    90% {\n",
       "      border-color: transparent;\n",
       "      border-bottom-color: var(--fill-color);\n",
       "    }\n",
       "  }\n",
       "</style>\n",
       "\n",
       "  <script>\n",
       "    async function quickchart(key) {\n",
       "      const quickchartButtonEl =\n",
       "        document.querySelector('#' + key + ' button');\n",
       "      quickchartButtonEl.disabled = true;  // To prevent multiple clicks.\n",
       "      quickchartButtonEl.classList.add('colab-df-spinner');\n",
       "      try {\n",
       "        const charts = await google.colab.kernel.invokeFunction(\n",
       "            'suggestCharts', [key], {});\n",
       "      } catch (error) {\n",
       "        console.error('Error during call to suggestCharts:', error);\n",
       "      }\n",
       "      quickchartButtonEl.classList.remove('colab-df-spinner');\n",
       "      quickchartButtonEl.classList.add('colab-df-quickchart-complete');\n",
       "    }\n",
       "    (() => {\n",
       "      let quickchartButtonEl =\n",
       "        document.querySelector('#df-d5927efd-f7d5-4a5a-8374-28d0598db559 button');\n",
       "      quickchartButtonEl.style.display =\n",
       "        google.colab.kernel.accessAllowed ? 'block' : 'none';\n",
       "    })();\n",
       "  </script>\n",
       "</div>\n",
       "    </div>\n",
       "  </div>\n"
      ],
      "text/plain": [
       "         Year  Month  Weekday  Hour  Severity  Num_vehicles  \\\n",
       "3        2000    1.0      1.0  17.0       2.0           1.0   \n",
       "4        2000    1.0      1.0  17.0       2.0           1.0   \n",
       "6        2000    1.0      1.0  10.0       2.0           1.0   \n",
       "8        2000    1.0      1.0  10.0       2.0           1.0   \n",
       "10       2000    1.0      1.0   8.0       2.0           3.0   \n",
       "...       ...    ...      ...   ...       ...           ...   \n",
       "6913198  2019   12.0      7.0  23.0       2.0           2.0   \n",
       "6913199  2019   12.0      7.0  23.0       2.0           2.0   \n",
       "6913200  2019   12.0      7.0  23.0       2.0           2.0   \n",
       "6913202  2019    0.0      0.0  17.0       1.0           1.0   \n",
       "6913203  2019    0.0      0.0  17.0       1.0           1.0   \n",
       "\n",
       "        Collision_configuration Road_configuration Weather_condition  \\\n",
       "3                            50                  0                 5   \n",
       "4                            50                  0                 5   \n",
       "6                             2                  0                 4   \n",
       "8                             2                  0                 4   \n",
       "10                           21                  0                 1   \n",
       "...                         ...                ...               ...   \n",
       "6913198                      35                  2                 2   \n",
       "6913199                      35                  2                 2   \n",
       "6913200                      35                  2                 2   \n",
       "6913202                       1                 50               NaN   \n",
       "6913203                       1                 50               NaN   \n",
       "\n",
       "        Road_surface  ... Vehicle_type Vehicle_year Person_id Person_sex  \\\n",
       "3                  2  ...           50       2001.0         1          F   \n",
       "4                  2  ...           50       2001.0         2          F   \n",
       "6                  3  ...           50       2001.0         1          F   \n",
       "8                  3  ...           50       2001.0         1          M   \n",
       "10                 2  ...           50       2000.0         1          N   \n",
       "...              ...  ...          ...          ...       ...        ...   \n",
       "6913198            2  ...            1       2016.0         1          F   \n",
       "6913199            2  ...            1       2016.0         2          M   \n",
       "6913200            2  ...            1       2011.0         1          M   \n",
       "6913202            5  ...            1       2007.0         1          M   \n",
       "6913203            5  ...           50       2001.0         1          F   \n",
       "\n",
       "         Person_age Person_position Person_injury_severity  \\\n",
       "3              16.0              99                      2   \n",
       "4              16.0              99                      2   \n",
       "6              31.0              99                      2   \n",
       "8              61.0              99                      2   \n",
       "10             33.0              11                      1   \n",
       "...             ...             ...                    ...   \n",
       "6913198        39.0              11                      1   \n",
       "6913199        38.0              12                      2   \n",
       "6913200        30.0              11                      2   \n",
       "6913202        50.0              11                      1   \n",
       "6913203        76.0              99                      3   \n",
       "\n",
       "         Safety_device_used Road_user_type Collision_case  \n",
       "3                        50              3       151441.0  \n",
       "4                        50              3       151441.0  \n",
       "6                        50              3       151460.0  \n",
       "8                        50              3       151461.0  \n",
       "10                       50              0       151509.0  \n",
       "...                     ...            ...            ...  \n",
       "6913198                   2              1      2785585.0  \n",
       "6913199                   2              2      2785585.0  \n",
       "6913200                   2              1      2785585.0  \n",
       "6913202                   1              1      2786255.0  \n",
       "6913203                  50              3      2786255.0  \n",
       "\n",
       "[6549929 rows x 23 columns]"
      ]
     },
     "execution_count": 77,
     "metadata": {},
     "output_type": "execute_result"
    }
   ],
   "source": [
    "data"
   ]
  },
  {
   "cell_type": "code",
   "execution_count": null,
   "metadata": {
    "id": "DdMiLCVdr3zs"
   },
   "outputs": [],
   "source": [
    "data.to_csv('/content/drive/MyDrive/capstone.csv')"
   ]
  },
  {
   "cell_type": "markdown",
   "metadata": {
    "id": "11mCZahzs8wQ"
   },
   "source": [
    "\n",
    "Univariate Plots : Histogram Plots of Person_age, Year, Month, Weekday, Hour"
   ]
  },
  {
   "cell_type": "code",
   "execution_count": null,
   "metadata": {
    "colab": {
     "base_uri": "https://localhost:8080/",
     "height": 1000
    },
    "id": "VPC_c7sBmQIe",
    "outputId": "578fdd34-c4b7-4781-f433-364c3fc8e618"
   },
   "outputs": [
    {
     "data": {
      "image/png": "[encoded data removed]",
      "text/plain": [
       "<Figure size 2000x2200 with 5 Axes>"
      ]
     },
     "metadata": {},
     "output_type": "display_data"
    }
   ],
   "source": [
    "plt.figure(figsize=(20, 22))\n",
    "important_continous_values = ['Person_age', 'Year', 'Month', 'Weekday', 'Hour']\n",
    "\n",
    "for i, column in enumerate(important_continous_values, 1):\n",
    "    plt.subplot(len(important_continous_values), 1, i)\n",
    "    data[column].hist()\n",
    "    plt.title(f'Histogram of {column}')\n",
    "    plt.xlabel(column)\n",
    "    plt.ylabel('Frequency')\n",
    "\n",
    "    plt.tight_layout()\n",
    "\n",
    "\n",
    "plt.show()"
   ]
  },
  {
   "cell_type": "markdown",
   "metadata": {
    "id": "nvc2cy3wpI9a"
   },
   "source": [
    "Histogram of Person_age:\n",
    "\n",
    "- Shows age distribution of persons in incidents.\n",
    "- Majority aged 20-30 years.\n",
    "- Frequency decreases with increasing age.\n",
    "\n",
    "Histogram of Year:\n",
    "- Incident frequency from 2000 to 2019.\n",
    "- Relatively stable with fluctuations.\n",
    "- Notable decrease after 2010.\n",
    "\n",
    "Histogram of Month:\n",
    "- Incident distribution across months.\n",
    "- Significant peak might be indicating seasonal effects.\n",
    "- Maximum number of cases are in August, and then in Second\n",
    "\n",
    "Histogram of Weekday:\n",
    "- Uniform incident frequency across the week.\n",
    "- Slight daily variations.\n",
    "\n",
    "Histogram of Hour:\n",
    "- Non-uniform distribution across hours of the day.\n",
    "- Peaks during certain hours, likely rush or late-night hours."
   ]
  },
  {
   "cell_type": "code",
   "execution_count": null,
   "metadata": {
    "id": "6GthNE-O1wMJ"
   },
   "outputs": [],
   "source": [
    "#!pip install summarytools\n",
    "#from summarytools import dfSummary\n",
    "#dfSummary(data)"
   ]
  },
  {
   "cell_type": "code",
   "execution_count": null,
   "metadata": {
    "colab": {
     "base_uri": "https://localhost:8080/",
     "height": 487
    },
    "id": "7mQ8Q9WmbzoU",
    "outputId": "166ae8d8-52c9-48f8-c510-5ffedd62da2c"
   },
   "outputs": [
    {
     "data": {
      "image/png": "[encoded data removed]",
      "text/plain": [
       "<Figure size 640x480 with 1 Axes>"
      ]
     },
     "metadata": {},
     "output_type": "display_data"
    }
   ],
   "source": [
    "#Checking the weather conditions\n",
    "sns.countplot(x='Weather_condition', data=data)\n",
    "plt.title('Weather Conditions During Incidents')\n",
    "\n",
    "plt.tight_layout()\n",
    "plt.show()"
   ]
  },
  {
   "cell_type": "markdown",
   "metadata": {
    "id": "0oISECAJfZmM"
   },
   "source": [
    "Most of the accidents have occured in clear and sunny weather,secondly  in raining weather condition and  thirdly in overcast, cloudy but no precipitation."
   ]
  },
  {
   "cell_type": "markdown",
   "metadata": {
    "id": "4TJg5WUmtHjw"
   },
   "source": [
    "## Bivariate analysis"
   ]
  },
  {
   "cell_type": "markdown",
   "metadata": {
    "id": "F43LVeGdcYdH"
   },
   "source": [
    "1. Count of Cases over the Years"
   ]
  },
  {
   "cell_type": "code",
   "execution_count": null,
   "metadata": {
    "colab": {
     "base_uri": "https://localhost:8080/",
     "height": 585
    },
    "id": "B1ZVbzFXcYt5",
    "outputId": "ee16afad-7aba-44d8-c08b-ca7e1fa6111e"
   },
   "outputs": [
    {
     "data": {
      "image/png": "[encoded data removed]",
      "text/plain": [
       "<Figure size 1200x600 with 1 Axes>"
      ]
     },
     "metadata": {},
     "output_type": "display_data"
    }
   ],
   "source": [
    "yearly_case_count = data.groupby('Year')['Collision_case'].nunique().reset_index()\n",
    "plt.figure(figsize=(12, 6))\n",
    "sns.lineplot(x='Year', y='Collision_case', data=yearly_case_count, marker='o')\n",
    "plt.title('Year vs Number of Distinct Cases')\n",
    "plt.xlabel('Year')\n",
    "plt.ylabel('Count of Distinct Cases')\n",
    "plt.xticks(rotation=45)\n",
    "plt.grid(True)\n",
    "plt.show()"
   ]
  },
  {
   "cell_type": "markdown",
   "metadata": {
    "id": "7BYvdjG9f-JC"
   },
   "source": [
    "We can observe a gradual decrease in the number of accidents throughtout the years."
   ]
  },
  {
   "cell_type": "markdown",
   "metadata": {
    "id": "kSTIh32GtQnX"
   },
   "source": [
    "2. Bar Graph of Safety Device Used vs Passenger Age"
   ]
  },
  {
   "cell_type": "code",
   "execution_count": null,
   "metadata": {
    "colab": {
     "base_uri": "https://localhost:8080/",
     "height": 564
    },
    "id": "mp9WvZCUMsf3",
    "outputId": "d903d340-aedf-4131-bde6-4aed3608b00d"
   },
   "outputs": [
    {
     "data": {
      "image/png": "[encoded data removed]",
      "text/plain": [
       "<Figure size 1000x600 with 1 Axes>"
      ]
     },
     "metadata": {},
     "output_type": "display_data"
    }
   ],
   "source": [
    "plt.figure(figsize=(10, 6))\n",
    "sns.barplot(x='Safety_device_used', y='Person_age', data=data_clean)\n",
    "\n",
    "plt.title('Bar Graph of Safety Device Used vs Person Age')\n",
    "plt.xlabel('Safety Device Used')\n",
    "plt.ylabel('Person Age')\n",
    "plt.show()\n"
   ]
  },
  {
   "cell_type": "markdown",
   "metadata": {
    "id": "rqNkDMYcp2BF"
   },
   "source": [
    "- Reflective clothing and the combination of helmets and reflective clothing - are used by an older age group on average, suggesting that more experienced individuals might prioritize visibility and protection.\n",
    "- There is a consistent trend of people in their early to mid-30s not using safety devices or only using standard safety devices, indicating this age group may be less inclined to use specialized safety equipment."
   ]
  },
  {
   "cell_type": "markdown",
   "metadata": {
    "id": "SmYX-G4tyvwU"
   },
   "source": [
    "**3**. Collision Case counts for various vehicle type"
   ]
  },
  {
   "cell_type": "code",
   "execution_count": null,
   "metadata": {
    "colab": {
     "base_uri": "https://localhost:8080/",
     "height": 727
    },
    "id": "ORm7aGf-u-er",
    "outputId": "1e8b020c-a7e9-4933-8893-eae7739ae17b"
   },
   "outputs": [
    {
     "data": {
      "image/png": "[encoded data removed]",
      "text/plain": [
       "<Figure size 1000x800 with 1 Axes>"
      ]
     },
     "metadata": {},
     "output_type": "display_data"
    }
   ],
   "source": [
    "data['Collision_case'] = pd.to_numeric(data['Collision_case'], errors='coerce')\n",
    "data['Vehicle_type'] = data['Vehicle_type'].astype(str)\n",
    "collision_counts = data.groupby('Vehicle_type')['Collision_case'].count()\n",
    "plt.figure(figsize=(10, 8))\n",
    "plt.bar(collision_counts.index, collision_counts.values)\n",
    "plt.xlabel('Vehicle Type')\n",
    "plt.ylabel('Count of Collision Cases')\n",
    "plt.title('Motor Vehicle Type Incidents: Annual and Monthly Overview')\n",
    "plt.xticks(rotation=45)\n",
    "plt.show()"
   ]
  },
  {
   "cell_type": "markdown",
   "metadata": {
    "id": "n6GOureAg5PO"
   },
   "source": [
    "- Light Duty Vehicles top collision stats; likely from being most common on roads.\n",
    "- Fewer mishaps with big rigs and buses hint at less road time or safer driving.\n",
    "- Bikes and motorbikes see moderate trouble, balancing numbers and risk.\n",
    "- Rare incidents with farm gear and fire engines point to scarce road use or stricter safety."
   ]
  },
  {
   "cell_type": "markdown",
   "metadata": {
    "id": "mA6QT_uGcx9d"
   },
   "source": [
    "4. Number of collision for each hour"
   ]
  },
  {
   "cell_type": "code",
   "execution_count": null,
   "metadata": {
    "colab": {
     "base_uri": "https://localhost:8080/",
     "height": 581
    },
    "id": "tduDBqOncwzK",
    "outputId": "df555616-ce5f-4b3d-ffa8-1b9d6e358b1e"
   },
   "outputs": [
    {
     "data": {
      "image/png": "[encoded data removed]",
      "text/plain": [
       "<Figure size 1500x600 with 1 Axes>"
      ]
     },
     "metadata": {},
     "output_type": "display_data"
    }
   ],
   "source": [
    "Collision_counts = data.groupby('Hour').size()\n",
    "plt.figure(figsize=(15,6))\n",
    "Collision_counts.plot(kind='bar')\n",
    "plt.title('Collision Cases per Year')\n",
    "plt.xlabel('Hour')\n",
    "plt.ylabel('Number of Collisions')\n",
    "plt.show()"
   ]
  },
  {
   "cell_type": "code",
   "execution_count": null,
   "metadata": {
    "colab": {
     "base_uri": "https://localhost:8080/",
     "height": 564
    },
    "id": "EgY-PFKmwA-p",
    "outputId": "534f2963-cebb-40ea-a6d7-bd694cba601f"
   },
   "outputs": [
    {
     "data": {
      "image/png": "[encoded data removed]",
      "text/plain": [
       "<Figure size 1500x600 with 1 Axes>"
      ]
     },
     "metadata": {},
     "output_type": "display_data"
    }
   ],
   "source": [
    "Collision_counts = data_clean.groupby('Hour').size()\n",
    "plt.figure(figsize=(15, 6))\n",
    "Collision_counts.plot(kind='line')\n",
    "plt.title('Collision Cases per Hour - Line Graph')\n",
    "plt.xlabel('Hour')\n",
    "plt.ylabel('Number of Collisions')\n",
    "plt.grid(True)\n",
    "plt.show()"
   ]
  },
  {
   "cell_type": "markdown",
   "metadata": {
    "id": "8g4x9jXA0qCl"
   },
   "source": [
    "5. Heatmap to check the relationship between Weather Conditions and Road Surface Type"
   ]
  },
  {
   "cell_type": "code",
   "execution_count": null,
   "metadata": {
    "colab": {
     "base_uri": "https://localhost:8080/",
     "height": 564
    },
    "id": "Sjkc_d0QaCgj",
    "outputId": "8f88e5d9-69b0-4050-83ff-52cf39ba74fe"
   },
   "outputs": [
    {
     "data": {
      "image/png": "[encoded data removed]",
      "text/plain": [
       "<Figure size 1200x600 with 2 Axes>"
      ]
     },
     "metadata": {},
     "output_type": "display_data"
    }
   ],
   "source": [
    "weather_road_crosstab = pd.crosstab(data_clean['Weather_condition'], data_clean['Road_surface'])\n",
    "plt.figure(figsize=(12, 6))\n",
    "sns.heatmap(weather_road_crosstab, annot=True, fmt='d', cmap='viridis')\n",
    "plt.title('Relationship Between Weather Conditions and Road Surface Types')\n",
    "plt.show()"
   ]
  },
  {
   "cell_type": "markdown",
   "metadata": {
    "id": "mqkV1VsHamMr"
   },
   "source": [
    "6. Checking the Average Number of vehicles involved in Collision Cases"
   ]
  },
  {
   "cell_type": "code",
   "execution_count": null,
   "metadata": {
    "id": "N_5wzPNX0qVD"
   },
   "outputs": [],
   "source": [
    "num_vehicles_collision_group = data_clean.groupby('Collision_case')['Num_vehicles'].mean().reset_index()\n",
    "plt.figure(figsize=(12, 6))\n",
    "sns.barplot(x='Collision_case', y='Num_vehicles', data=num_vehicles_collision_group)\n",
    "plt.title('Average Number of Vehicles Involved by Collision Case')\n",
    "plt.show()"
   ]
  },
  {
   "cell_type": "markdown",
   "metadata": {
    "id": "K5oTNMUQktOo"
   },
   "source": [
    "*************************************************************************************************************"
   ]
  },
  {
   "cell_type": "markdown",
   "metadata": {
    "id": "FXxZAv04bNhi"
   },
   "source": [
    "**************************************************************************************************************************************************************"
   ]
  }
 ],
 "metadata": {
  "accelerator": "GPU",
  "colab": {
   "provenance": []
  },
  "kernelspec": {
   "display_name": "Python 3 (ipykernel)",
   "language": "python",
   "name": "python3"
  },
  "language_info": {
   "codemirror_mode": {
    "name": "ipython",
    "version": 3
   },
   "file_extension": ".py",
   "mimetype": "text/x-python",
   "name": "python",
   "nbconvert_exporter": "python",
   "pygments_lexer": "ipython3",
   "version": "3.11.5"
  }
 },
 "nbformat": 4,
 "nbformat_minor": 1
}
